{
 "cells": [
  {
   "cell_type": "code",
   "execution_count": 237,
   "metadata": {},
   "outputs": [],
   "source": [
    "#Import the required Libraries.\n",
    "import numpy as np\n",
    "import pandas as pd\n",
    "import matplotlib.pyplot as plt\n",
    "import seaborn as sns"
   ]
  },
  {
   "cell_type": "markdown",
   "metadata": {},
   "source": [
    "## Data Cleaning "
   ]
  },
  {
   "cell_type": "markdown",
   "metadata": {},
   "source": [
    "### Data Reading & Data Types "
   ]
  },
  {
   "cell_type": "code",
   "execution_count": 238,
   "metadata": {},
   "outputs": [],
   "source": [
    "#Read the data in pandas\n",
    "inp0= pd.read_csv(\"C:/Users/kriti/Downloads/dress dataset/Attribute+DataSet.csv\")\n",
    "inp1= pd.read_csv(\"C:/Users/kriti/Downloads/dress dataset/Dress+Sales.csv\")"
   ]
  },
  {
   "cell_type": "code",
   "execution_count": 239,
   "metadata": {},
   "outputs": [
    {
     "data": {
      "text/html": [
       "<div>\n",
       "<style scoped>\n",
       "    .dataframe tbody tr th:only-of-type {\n",
       "        vertical-align: middle;\n",
       "    }\n",
       "\n",
       "    .dataframe tbody tr th {\n",
       "        vertical-align: top;\n",
       "    }\n",
       "\n",
       "    .dataframe thead th {\n",
       "        text-align: right;\n",
       "    }\n",
       "</style>\n",
       "<table border=\"1\" class=\"dataframe\">\n",
       "  <thead>\n",
       "    <tr style=\"text-align: right;\">\n",
       "      <th></th>\n",
       "      <th>Dress_ID</th>\n",
       "      <th>Style</th>\n",
       "      <th>Price</th>\n",
       "      <th>Rating</th>\n",
       "      <th>Size</th>\n",
       "      <th>Season</th>\n",
       "      <th>NeckLine</th>\n",
       "      <th>SleeveLength</th>\n",
       "      <th>Material</th>\n",
       "      <th>FabricType</th>\n",
       "      <th>Decoration</th>\n",
       "      <th>Pattern Type</th>\n",
       "      <th>Recommendation</th>\n",
       "    </tr>\n",
       "  </thead>\n",
       "  <tbody>\n",
       "    <tr>\n",
       "      <th>0</th>\n",
       "      <td>1006032852</td>\n",
       "      <td>Sexy</td>\n",
       "      <td>Low</td>\n",
       "      <td>4.6</td>\n",
       "      <td>M</td>\n",
       "      <td>Summer</td>\n",
       "      <td>o-neck</td>\n",
       "      <td>sleevless</td>\n",
       "      <td>NaN</td>\n",
       "      <td>chiffon</td>\n",
       "      <td>ruffles</td>\n",
       "      <td>animal</td>\n",
       "      <td>1</td>\n",
       "    </tr>\n",
       "    <tr>\n",
       "      <th>1</th>\n",
       "      <td>1212192089</td>\n",
       "      <td>Casual</td>\n",
       "      <td>Low</td>\n",
       "      <td>0.0</td>\n",
       "      <td>L</td>\n",
       "      <td>Summer</td>\n",
       "      <td>o-neck</td>\n",
       "      <td>Petal</td>\n",
       "      <td>microfiber</td>\n",
       "      <td>NaN</td>\n",
       "      <td>ruffles</td>\n",
       "      <td>animal</td>\n",
       "      <td>0</td>\n",
       "    </tr>\n",
       "    <tr>\n",
       "      <th>2</th>\n",
       "      <td>1190380701</td>\n",
       "      <td>vintage</td>\n",
       "      <td>High</td>\n",
       "      <td>0.0</td>\n",
       "      <td>L</td>\n",
       "      <td>Automn</td>\n",
       "      <td>o-neck</td>\n",
       "      <td>full</td>\n",
       "      <td>polyster</td>\n",
       "      <td>NaN</td>\n",
       "      <td>NaN</td>\n",
       "      <td>print</td>\n",
       "      <td>0</td>\n",
       "    </tr>\n",
       "    <tr>\n",
       "      <th>3</th>\n",
       "      <td>966005983</td>\n",
       "      <td>Brief</td>\n",
       "      <td>Average</td>\n",
       "      <td>4.6</td>\n",
       "      <td>L</td>\n",
       "      <td>Spring</td>\n",
       "      <td>o-neck</td>\n",
       "      <td>full</td>\n",
       "      <td>silk</td>\n",
       "      <td>chiffon</td>\n",
       "      <td>embroidary</td>\n",
       "      <td>print</td>\n",
       "      <td>1</td>\n",
       "    </tr>\n",
       "    <tr>\n",
       "      <th>4</th>\n",
       "      <td>876339541</td>\n",
       "      <td>cute</td>\n",
       "      <td>Low</td>\n",
       "      <td>4.5</td>\n",
       "      <td>M</td>\n",
       "      <td>Summer</td>\n",
       "      <td>o-neck</td>\n",
       "      <td>butterfly</td>\n",
       "      <td>chiffonfabric</td>\n",
       "      <td>chiffon</td>\n",
       "      <td>bow</td>\n",
       "      <td>dot</td>\n",
       "      <td>0</td>\n",
       "    </tr>\n",
       "  </tbody>\n",
       "</table>\n",
       "</div>"
      ],
      "text/plain": [
       "     Dress_ID    Style    Price  Rating Size  Season NeckLine SleeveLength  \\\n",
       "0  1006032852     Sexy      Low     4.6    M  Summer   o-neck    sleevless   \n",
       "1  1212192089   Casual      Low     0.0    L  Summer   o-neck        Petal   \n",
       "2  1190380701  vintage     High     0.0    L  Automn   o-neck         full   \n",
       "3   966005983    Brief  Average     4.6    L  Spring   o-neck         full   \n",
       "4   876339541     cute      Low     4.5    M  Summer   o-neck    butterfly   \n",
       "\n",
       "        Material FabricType  Decoration Pattern Type  Recommendation  \n",
       "0            NaN    chiffon     ruffles       animal               1  \n",
       "1     microfiber        NaN     ruffles       animal               0  \n",
       "2       polyster        NaN         NaN        print               0  \n",
       "3           silk    chiffon  embroidary        print               1  \n",
       "4  chiffonfabric    chiffon         bow          dot               0  "
      ]
     },
     "execution_count": 239,
     "metadata": {},
     "output_type": "execute_result"
    }
   ],
   "source": [
    "inp0.head()"
   ]
  },
  {
   "cell_type": "code",
   "execution_count": 240,
   "metadata": {},
   "outputs": [
    {
     "data": {
      "text/plain": [
       "dtype('int64')"
      ]
     },
     "execution_count": 240,
     "metadata": {},
     "output_type": "execute_result"
    }
   ],
   "source": [
    "inp0.Recommendation.dtype"
   ]
  },
  {
   "cell_type": "markdown",
   "metadata": {},
   "source": [
    "You have “Attribute DataSet” which contains a column named “Price”. Choose the correct statement from the following about its data type and variable type.\n",
    "- Integer type and numerical variable\n",
    "- Object type and categorical ordinal variable\n",
    "- Object type and categorical nominal variable\n",
    "- Float type and categorical variable.\n"
   ]
  },
  {
   "cell_type": "markdown",
   "metadata": {},
   "source": [
    "There is another column in “Attribute DataSet” named as “Recommendation”, choose the correct statement about its data type and variable type.\n",
    "- Integer type and categorical\n",
    "- Object type and categorical\n",
    "- Integer type and continuous numerical\n",
    "- Object type only.\n"
   ]
  },
  {
   "cell_type": "markdown",
   "metadata": {},
   "source": [
    "Which of the following column do you think are of no use in “Attribute DataSet”.\n",
    "- Dress_ID\n",
    "- Price\n",
    "- Size and material\n",
    "- NeckLine\n",
    "- None of the above\n"
   ]
  },
  {
   "cell_type": "markdown",
   "metadata": {},
   "source": [
    "### Fixing the Rows and Columns "
   ]
  },
  {
   "cell_type": "markdown",
   "metadata": {},
   "source": [
    "As you can see, there is a column in “Attribute Dataset” named as ‘Size’. This column contains the values in abbreviation format. Write a code in Python to convert the followings:\n",
    "\n",
    "- M into  “Medium”\n",
    "- L into  “Large”\n",
    "- XL into “Extra large”\n",
    "- free into “Free”\n",
    "- S, s & small into “Small”.\n",
    "\n",
    "Now once you are done with changes in the dataset, what is the value of the lowest percentage, the highest percentage and the percentage of Small size categories in the column named “Size”?\n"
   ]
  },
  {
   "cell_type": "code",
   "execution_count": 242,
   "metadata": {},
   "outputs": [
    {
     "data": {
      "text/plain": [
       "array(['M', 'L', 'XL', 'free', 'S', 'small', 's'], dtype=object)"
      ]
     },
     "execution_count": 242,
     "metadata": {},
     "output_type": "execute_result"
    }
   ],
   "source": [
    "inp0['Size'].unique()"
   ]
  },
  {
   "cell_type": "code",
   "execution_count": 243,
   "metadata": {},
   "outputs": [],
   "source": [
    "# Column fixing, correcting size abbreviation. count the percentage of each size category in \"Size\" column.\n",
    "a=['M', 'L', 'XL', 'free', 'S', 'small', 's']\n",
    "b=['Medium','Large','Extra Large','Free','Small','Small','Small']\n",
    "inp0.Size.replace(a,b,inplace=True)"
   ]
  },
  {
   "cell_type": "code",
   "execution_count": 244,
   "metadata": {},
   "outputs": [
    {
     "data": {
      "text/plain": [
       "Size\n",
       "Medium         171\n",
       "Free           165\n",
       "Large           93\n",
       "Small           36\n",
       "Extra Large     14\n",
       "Name: count, dtype: int64"
      ]
     },
     "execution_count": 244,
     "metadata": {},
     "output_type": "execute_result"
    }
   ],
   "source": [
    "inp0.Size.value_counts()"
   ]
  },
  {
   "cell_type": "code",
   "execution_count": 245,
   "metadata": {},
   "outputs": [
    {
     "data": {
      "text/plain": [
       "Size\n",
       "Medium         35.699374\n",
       "Free           34.446764\n",
       "Large          19.415449\n",
       "Small           7.515658\n",
       "Extra Large     2.922756\n",
       "Name: count, dtype: float64"
      ]
     },
     "execution_count": 245,
     "metadata": {},
     "output_type": "execute_result"
    }
   ],
   "source": [
    "# Calculating the percentages\n",
    "inp0['Size'].value_counts()*100/len(inp0)"
   ]
  },
  {
   "cell_type": "code",
   "execution_count": 246,
   "metadata": {},
   "outputs": [
    {
     "data": {
      "text/html": [
       "<div>\n",
       "<style scoped>\n",
       "    .dataframe tbody tr th:only-of-type {\n",
       "        vertical-align: middle;\n",
       "    }\n",
       "\n",
       "    .dataframe tbody tr th {\n",
       "        vertical-align: top;\n",
       "    }\n",
       "\n",
       "    .dataframe thead th {\n",
       "        text-align: right;\n",
       "    }\n",
       "</style>\n",
       "<table border=\"1\" class=\"dataframe\">\n",
       "  <thead>\n",
       "    <tr style=\"text-align: right;\">\n",
       "      <th></th>\n",
       "      <th>Dress_ID</th>\n",
       "      <th>29-08-2013</th>\n",
       "      <th>31-08-2013</th>\n",
       "      <th>09-02-2013</th>\n",
       "      <th>09-04-2013</th>\n",
       "      <th>09-06-2013</th>\n",
       "      <th>09-08-2013</th>\n",
       "      <th>09-10-2013</th>\n",
       "      <th>09-12-2013</th>\n",
       "      <th>14-09-2013</th>\n",
       "      <th>...</th>\n",
       "      <th>24-09-2013</th>\n",
       "      <th>26-09-2013</th>\n",
       "      <th>28-09-2013</th>\n",
       "      <th>30-09-2013</th>\n",
       "      <th>10-02-2013</th>\n",
       "      <th>10-04-2013</th>\n",
       "      <th>10-06-2013</th>\n",
       "      <th>10-08-2013</th>\n",
       "      <th>10-10-2013</th>\n",
       "      <th>10-12-2013</th>\n",
       "    </tr>\n",
       "  </thead>\n",
       "  <tbody>\n",
       "    <tr>\n",
       "      <th>0</th>\n",
       "      <td>1.006033e+09</td>\n",
       "      <td>2114</td>\n",
       "      <td>2274</td>\n",
       "      <td>2491</td>\n",
       "      <td>2660</td>\n",
       "      <td>2727</td>\n",
       "      <td>2887</td>\n",
       "      <td>2930</td>\n",
       "      <td>3119</td>\n",
       "      <td>3204</td>\n",
       "      <td>...</td>\n",
       "      <td>3554</td>\n",
       "      <td>3624.0</td>\n",
       "      <td>3706</td>\n",
       "      <td>3746.0</td>\n",
       "      <td>3795.0</td>\n",
       "      <td>3832.0</td>\n",
       "      <td>3897</td>\n",
       "      <td>3923.0</td>\n",
       "      <td>3985.0</td>\n",
       "      <td>4048</td>\n",
       "    </tr>\n",
       "    <tr>\n",
       "      <th>1</th>\n",
       "      <td>1.212192e+09</td>\n",
       "      <td>151</td>\n",
       "      <td>275</td>\n",
       "      <td>570</td>\n",
       "      <td>750</td>\n",
       "      <td>813</td>\n",
       "      <td>1066</td>\n",
       "      <td>1164</td>\n",
       "      <td>1558</td>\n",
       "      <td>1756</td>\n",
       "      <td>...</td>\n",
       "      <td>2710</td>\n",
       "      <td>2942.0</td>\n",
       "      <td>3258</td>\n",
       "      <td>3354.0</td>\n",
       "      <td>3475.0</td>\n",
       "      <td>3654.0</td>\n",
       "      <td>3911</td>\n",
       "      <td>4024.0</td>\n",
       "      <td>4125.0</td>\n",
       "      <td>4277</td>\n",
       "    </tr>\n",
       "    <tr>\n",
       "      <th>2</th>\n",
       "      <td>1.190381e+09</td>\n",
       "      <td>6</td>\n",
       "      <td>7</td>\n",
       "      <td>7</td>\n",
       "      <td>7</td>\n",
       "      <td>8</td>\n",
       "      <td>8</td>\n",
       "      <td>9</td>\n",
       "      <td>10</td>\n",
       "      <td>10</td>\n",
       "      <td>...</td>\n",
       "      <td>11</td>\n",
       "      <td>11.0</td>\n",
       "      <td>11</td>\n",
       "      <td>11.0</td>\n",
       "      <td>11.0</td>\n",
       "      <td>11.0</td>\n",
       "      <td>11</td>\n",
       "      <td>11.0</td>\n",
       "      <td>11.0</td>\n",
       "      <td>11</td>\n",
       "    </tr>\n",
       "    <tr>\n",
       "      <th>3</th>\n",
       "      <td>9.660060e+08</td>\n",
       "      <td>1005</td>\n",
       "      <td>1128</td>\n",
       "      <td>1326</td>\n",
       "      <td>1455</td>\n",
       "      <td>1507</td>\n",
       "      <td>1621</td>\n",
       "      <td>1637</td>\n",
       "      <td>1723</td>\n",
       "      <td>1746</td>\n",
       "      <td>...</td>\n",
       "      <td>1878</td>\n",
       "      <td>1892.0</td>\n",
       "      <td>1914</td>\n",
       "      <td>1924.0</td>\n",
       "      <td>1929.0</td>\n",
       "      <td>1941.0</td>\n",
       "      <td>1952</td>\n",
       "      <td>1955.0</td>\n",
       "      <td>1959.0</td>\n",
       "      <td>1963</td>\n",
       "    </tr>\n",
       "    <tr>\n",
       "      <th>4</th>\n",
       "      <td>8.763395e+08</td>\n",
       "      <td>996</td>\n",
       "      <td>1175</td>\n",
       "      <td>1304</td>\n",
       "      <td>1396</td>\n",
       "      <td>1432</td>\n",
       "      <td>1559</td>\n",
       "      <td>1570</td>\n",
       "      <td>1638</td>\n",
       "      <td>1655</td>\n",
       "      <td>...</td>\n",
       "      <td>2032</td>\n",
       "      <td>2156.0</td>\n",
       "      <td>2252</td>\n",
       "      <td>2312.0</td>\n",
       "      <td>2387.0</td>\n",
       "      <td>2459.0</td>\n",
       "      <td>2544</td>\n",
       "      <td>2614.0</td>\n",
       "      <td>2693.0</td>\n",
       "      <td>2736</td>\n",
       "    </tr>\n",
       "  </tbody>\n",
       "</table>\n",
       "<p>5 rows × 24 columns</p>\n",
       "</div>"
      ],
      "text/plain": [
       "       Dress_ID  29-08-2013  31-08-2013  09-02-2013  09-04-2013  09-06-2013  \\\n",
       "0  1.006033e+09        2114        2274        2491        2660        2727   \n",
       "1  1.212192e+09         151         275         570         750         813   \n",
       "2  1.190381e+09           6           7           7           7           8   \n",
       "3  9.660060e+08        1005        1128        1326        1455        1507   \n",
       "4  8.763395e+08         996        1175        1304        1396        1432   \n",
       "\n",
       "   09-08-2013  09-10-2013 09-12-2013 14-09-2013  ... 24-09-2013 26-09-2013  \\\n",
       "0        2887        2930       3119       3204  ...       3554     3624.0   \n",
       "1        1066        1164       1558       1756  ...       2710     2942.0   \n",
       "2           8           9         10         10  ...         11       11.0   \n",
       "3        1621        1637       1723       1746  ...       1878     1892.0   \n",
       "4        1559        1570       1638       1655  ...       2032     2156.0   \n",
       "\n",
       "  28-09-2013 30-09-2013  10-02-2013  10-04-2013  10-06-2013  10-08-2013  \\\n",
       "0       3706     3746.0      3795.0      3832.0        3897      3923.0   \n",
       "1       3258     3354.0      3475.0      3654.0        3911      4024.0   \n",
       "2         11       11.0        11.0        11.0          11        11.0   \n",
       "3       1914     1924.0      1929.0      1941.0        1952      1955.0   \n",
       "4       2252     2312.0      2387.0      2459.0        2544      2614.0   \n",
       "\n",
       "   10-10-2013  10-12-2013  \n",
       "0      3985.0        4048  \n",
       "1      4125.0        4277  \n",
       "2        11.0          11  \n",
       "3      1959.0        1963  \n",
       "4      2693.0        2736  \n",
       "\n",
       "[5 rows x 24 columns]"
      ]
     },
     "execution_count": 246,
     "metadata": {},
     "output_type": "execute_result"
    }
   ],
   "source": [
    "inp1.head()\n"
   ]
  },
  {
   "cell_type": "code",
   "execution_count": 247,
   "metadata": {},
   "outputs": [
    {
     "name": "stdout",
     "output_type": "stream",
     "text": [
      "<class 'pandas.core.frame.DataFrame'>\n",
      "RangeIndex: 479 entries, 0 to 478\n",
      "Data columns (total 24 columns):\n",
      " #   Column      Non-Null Count  Dtype  \n",
      "---  ------      --------------  -----  \n",
      " 0   Dress_ID    479 non-null    float64\n",
      " 1   29-08-2013  479 non-null    int64  \n",
      " 2   31-08-2013  479 non-null    int64  \n",
      " 3   09-02-2013  479 non-null    int64  \n",
      " 4   09-04-2013  479 non-null    int64  \n",
      " 5   09-06-2013  479 non-null    int64  \n",
      " 6   09-08-2013  479 non-null    int64  \n",
      " 7   09-10-2013  479 non-null    int64  \n",
      " 8   09-12-2013  479 non-null    object \n",
      " 9   14-09-2013  479 non-null    object \n",
      " 10  16-09-2013  479 non-null    object \n",
      " 11  18-09-2013  479 non-null    object \n",
      " 12  20-09-2013  479 non-null    object \n",
      " 13  22-09-2013  479 non-null    object \n",
      " 14  24-09-2013  479 non-null    int64  \n",
      " 15  26-09-2013  257 non-null    float64\n",
      " 16  28-09-2013  479 non-null    int64  \n",
      " 17  30-09-2013  222 non-null    float64\n",
      " 18  10-02-2013  220 non-null    float64\n",
      " 19  10-04-2013  221 non-null    float64\n",
      " 20  10-06-2013  479 non-null    int64  \n",
      " 21  10-08-2013  224 non-null    float64\n",
      " 22  10-10-2013  224 non-null    float64\n",
      " 23  10-12-2013  479 non-null    int64  \n",
      "dtypes: float64(7), int64(11), object(6)\n",
      "memory usage: 89.9+ KB\n"
     ]
    }
   ],
   "source": [
    "inp1.info()"
   ]
  },
  {
   "cell_type": "code",
   "execution_count": 248,
   "metadata": {},
   "outputs": [
    {
     "data": {
      "text/html": [
       "<div>\n",
       "<style scoped>\n",
       "    .dataframe tbody tr th:only-of-type {\n",
       "        vertical-align: middle;\n",
       "    }\n",
       "\n",
       "    .dataframe tbody tr th {\n",
       "        vertical-align: top;\n",
       "    }\n",
       "\n",
       "    .dataframe thead th {\n",
       "        text-align: right;\n",
       "    }\n",
       "</style>\n",
       "<table border=\"1\" class=\"dataframe\">\n",
       "  <thead>\n",
       "    <tr style=\"text-align: right;\">\n",
       "      <th></th>\n",
       "      <th>09-12-2013</th>\n",
       "      <th>14-09-2013</th>\n",
       "      <th>16-09-2013</th>\n",
       "      <th>18-09-2013</th>\n",
       "      <th>20-09-2013</th>\n",
       "      <th>22-09-2013</th>\n",
       "    </tr>\n",
       "  </thead>\n",
       "  <tbody>\n",
       "    <tr>\n",
       "      <th>0</th>\n",
       "      <td>3119</td>\n",
       "      <td>3204</td>\n",
       "      <td>3277</td>\n",
       "      <td>3321</td>\n",
       "      <td>3386</td>\n",
       "      <td>3479</td>\n",
       "    </tr>\n",
       "    <tr>\n",
       "      <th>1</th>\n",
       "      <td>1558</td>\n",
       "      <td>1756</td>\n",
       "      <td>1878</td>\n",
       "      <td>1985</td>\n",
       "      <td>2106</td>\n",
       "      <td>2454</td>\n",
       "    </tr>\n",
       "    <tr>\n",
       "      <th>2</th>\n",
       "      <td>10</td>\n",
       "      <td>10</td>\n",
       "      <td>10</td>\n",
       "      <td>10</td>\n",
       "      <td>10</td>\n",
       "      <td>11</td>\n",
       "    </tr>\n",
       "    <tr>\n",
       "      <th>3</th>\n",
       "      <td>1723</td>\n",
       "      <td>1746</td>\n",
       "      <td>1783</td>\n",
       "      <td>1796</td>\n",
       "      <td>1812</td>\n",
       "      <td>1845</td>\n",
       "    </tr>\n",
       "    <tr>\n",
       "      <th>4</th>\n",
       "      <td>1638</td>\n",
       "      <td>1655</td>\n",
       "      <td>1681</td>\n",
       "      <td>1743</td>\n",
       "      <td>1824</td>\n",
       "      <td>1919</td>\n",
       "    </tr>\n",
       "    <tr>\n",
       "      <th>5</th>\n",
       "      <td>18</td>\n",
       "      <td>19</td>\n",
       "      <td>20</td>\n",
       "      <td>20</td>\n",
       "      <td>21</td>\n",
       "      <td>22</td>\n",
       "    </tr>\n",
       "    <tr>\n",
       "      <th>6</th>\n",
       "      <td>251</td>\n",
       "      <td>262</td>\n",
       "      <td>289</td>\n",
       "      <td>295</td>\n",
       "      <td>325</td>\n",
       "      <td>353</td>\n",
       "    </tr>\n",
       "    <tr>\n",
       "      <th>7</th>\n",
       "      <td>117</td>\n",
       "      <td>121</td>\n",
       "      <td>125</td>\n",
       "      <td>135</td>\n",
       "      <td>142</td>\n",
       "      <td>150</td>\n",
       "    </tr>\n",
       "    <tr>\n",
       "      <th>8</th>\n",
       "      <td>17</td>\n",
       "      <td>17</td>\n",
       "      <td>19</td>\n",
       "      <td>21</td>\n",
       "      <td>25</td>\n",
       "      <td>27</td>\n",
       "    </tr>\n",
       "    <tr>\n",
       "      <th>9</th>\n",
       "      <td>13</td>\n",
       "      <td>13</td>\n",
       "      <td>13</td>\n",
       "      <td>13</td>\n",
       "      <td>14</td>\n",
       "      <td>14</td>\n",
       "    </tr>\n",
       "  </tbody>\n",
       "</table>\n",
       "</div>"
      ],
      "text/plain": [
       "  09-12-2013 14-09-2013 16-09-2013 18-09-2013 20-09-2013 22-09-2013\n",
       "0       3119       3204       3277       3321       3386       3479\n",
       "1       1558       1756       1878       1985       2106       2454\n",
       "2         10         10         10         10         10         11\n",
       "3       1723       1746       1783       1796       1812       1845\n",
       "4       1638       1655       1681       1743       1824       1919\n",
       "5         18         19         20         20         21         22\n",
       "6        251        262        289        295        325        353\n",
       "7        117        121        125        135        142        150\n",
       "8         17         17         19         21         25         27\n",
       "9         13         13         13         13         14         14"
      ]
     },
     "execution_count": 248,
     "metadata": {},
     "output_type": "execute_result"
    }
   ],
   "source": [
    "df_obj=inp1.select_dtypes(include=['object'])\n",
    "df_obj.head(10)"
   ]
  },
  {
   "cell_type": "code",
   "execution_count": 249,
   "metadata": {},
   "outputs": [
    {
     "data": {
      "text/plain": [
       "array(['3119', '1558', '10', '1723', '1638', '18', '251', '117', '17',\n",
       "       '13', '65', '90', '1906', '2934', '49', '45', '1898', '12', '381',\n",
       "       '227', '1248', '233', '1671', '5', '22', '1762', '105', '497',\n",
       "       '7156', '1456', '279', '1004', '1244', '2321', '1706', '1744',\n",
       "       '66', '569', '557', '156', '2930', '640', '878', '240', '112',\n",
       "       '5475', '24', '1210', '4', '209', '218', '59', '1474', '921',\n",
       "       '328', '567', '585', '359', '30', '8', '68', '2025', '293', '670',\n",
       "       '375', '25', '415', '83', '369', '40', '826', '2366', '6', '73',\n",
       "       '137', '1412', '393', '382', '14', '232', '401', '325', '308',\n",
       "       '722', '16', '119', '174', '2', '0', '302', '808', '407', '237',\n",
       "       '649', '1311', '348', '1966', '531', '81', '3544', '164', '1335',\n",
       "       '72', '414', '134', '452', '221', '450', '1029', '1235', '7', '91',\n",
       "       '665', '307', '169', '442', '217', '3', '264', '578', '194', '339',\n",
       "       '165', '64', '132', '635', '113', '43', '1271', '460', '451', '41',\n",
       "       '111', '549', '455', '1886', '61', '176', '280', '201', '488',\n",
       "       '226', '472', '42', '386', '365', '664', '576', '356', '957',\n",
       "       '204', '21', '224', '115', '103', '850', '46', '281', '559', '767',\n",
       "       '343', '461', '1842', '202', '122', '350', '742', '114', '140',\n",
       "       '37', '178', '283', '124', '74', '448', '36', '1115', '314', '188',\n",
       "       '259', '144', '171', '449', '168', '377', '334', '500', '758', '1',\n",
       "       '354', '52', '126', '31', '836', '865', '387', '85', '482', '362',\n",
       "       '35', '298', '219', '320', '60', '270', '288', '1472', '118',\n",
       "       '357', '70', '98', '146', '189', '273', 'Removed', '56', '210',\n",
       "       '67', '54', '28', '57', '396', '215', '145', '89', '222', '96',\n",
       "       '26', '87', '100', '129', '69', '101', '82', '29', '160', '62',\n",
       "       '289', '123', '296', '158', '53', '786', '75', '58', '823', '148',\n",
       "       '606', '9', '822', '253', '55', '50', '1111', '269', '562', '583',\n",
       "       '324', '170', '199', '794', '39', '84', '121', '147', '93', '191',\n",
       "       '195', '44', '669', '205', '420', '133', '385', '678', '243', '11',\n",
       "       '97', '384', '213', '155', '15', '234', '27', '33', '131', '361',\n",
       "       '321', '250', '92', '51', '683', '86', '19', '163', '143', '417',\n",
       "       '23', '322', '149', '245', '139', '629', '187', '290', '645',\n",
       "       '473', '239', '525', '694', '268'], dtype=object)"
      ]
     },
     "execution_count": 249,
     "metadata": {},
     "output_type": "execute_result"
    }
   ],
   "source": [
    "df_obj['09-12-2013'].unique()"
   ]
  },
  {
   "cell_type": "code",
   "execution_count": 250,
   "metadata": {},
   "outputs": [],
   "source": [
    "inp1.loc[inp1['09-12-2013']== 'Removed',\"09-12-2013\"] = np.NaN\n",
    "\n",
    "inp1.loc[inp1['14-09-2013']== 'removed',\"14-09-2013\"] = np.NaN\n",
    "\n",
    "inp1.loc[inp1['16-09-2013']== 'removed',\"16-09-2013\"] = np.NaN\n",
    "\n",
    "inp1.loc[inp1['18-09-2013']== 'removed',\"18-09-2013\"] = np.NaN\n",
    "\n",
    "inp1.loc[inp1['20-09-2013']== 'removed',\"20-09-2013\"] = np.NaN\n",
    "\n",
    "inp1.loc[inp1['22-09-2013']== 'Orders',\"22-09-2013\"] = np.NaN"
   ]
  },
  {
   "cell_type": "code",
   "execution_count": 251,
   "metadata": {},
   "outputs": [],
   "source": [
    "inp1['09-12-2013']=inp1['09-12-2013'].astype(float)\n",
    "inp1['14-09-2013']=inp1['14-09-2013'].astype(float)\n",
    "inp1['16-09-2013']=inp1['14-09-2013'].astype(float)\n",
    "inp1['18-09-2013']=inp1['18-09-2013'].astype(float)\n",
    "inp1['20-09-2013']=inp1['20-09-2013'].astype(float)\n",
    "inp1['22-09-2013']=inp1['22-09-2013'].astype(float)"
   ]
  },
  {
   "cell_type": "code",
   "execution_count": 252,
   "metadata": {},
   "outputs": [
    {
     "data": {
      "text/plain": [
       "count     478.000000\n",
       "mean      334.085774\n",
       "std       618.276697\n",
       "min         0.000000\n",
       "25%        42.250000\n",
       "50%       144.000000\n",
       "75%       356.750000\n",
       "max      7156.000000\n",
       "Name: 09-12-2013, dtype: float64"
      ]
     },
     "execution_count": 252,
     "metadata": {},
     "output_type": "execute_result"
    }
   ],
   "source": [
    "inp1['09-12-2013'].describe()"
   ]
  },
  {
   "cell_type": "markdown",
   "metadata": {},
   "source": [
    "### Impute/Remove Missing values"
   ]
  },
  {
   "cell_type": "code",
   "execution_count": 253,
   "metadata": {},
   "outputs": [
    {
     "data": {
      "text/plain": [
       "Dress_ID        0\n",
       "29-08-2013      0\n",
       "31-08-2013      0\n",
       "09-02-2013      0\n",
       "09-04-2013      0\n",
       "09-06-2013      0\n",
       "09-08-2013      0\n",
       "09-10-2013      0\n",
       "09-12-2013      1\n",
       "14-09-2013      1\n",
       "16-09-2013      1\n",
       "18-09-2013      1\n",
       "20-09-2013      1\n",
       "22-09-2013      1\n",
       "24-09-2013      0\n",
       "26-09-2013    222\n",
       "28-09-2013      0\n",
       "30-09-2013    257\n",
       "10-02-2013    259\n",
       "10-04-2013    258\n",
       "10-06-2013      0\n",
       "10-08-2013    255\n",
       "10-10-2013    255\n",
       "10-12-2013      0\n",
       "dtype: int64"
      ]
     },
     "execution_count": 253,
     "metadata": {},
     "output_type": "execute_result"
    }
   ],
   "source": [
    "# Print the null count of each variables of inp0 and inp1.\n",
    "inp1.isnull().sum()"
   ]
  },
  {
   "cell_type": "markdown",
   "metadata": {},
   "source": [
    "You are given another dataset named “Dress Sales”. Now if you observe the datatypes of the columns using ‘inp1.info()’ command, you can identify that there are certain columns defined as object data type though they primarily consist of numeric data.\n",
    "\n",
    "Now if you try and convert these object data type columns into numeric data type(float), you will come across an error message. Try to correct this error.\n",
    "\n",
    "\n",
    "\n",
    "\n",
    "\n"
   ]
  },
  {
   "cell_type": "markdown",
   "metadata": {},
   "source": [
    "When you see the null counts in “Dress Sales” dataset after performing all the operations that have been mentioned in jupyter notebook, you will find that there are some columns in “Dress Sales” data where there are more than 40% of missing values. Based on your understanding of dealing with missing values do the following steps."
   ]
  },
  {
   "cell_type": "code",
   "execution_count": 254,
   "metadata": {},
   "outputs": [
    {
     "data": {
      "text/plain": [
       "Dress_ID       0.000000\n",
       "29-08-2013     0.000000\n",
       "31-08-2013     0.000000\n",
       "09-02-2013     0.000000\n",
       "09-04-2013     0.000000\n",
       "09-06-2013     0.000000\n",
       "09-08-2013     0.000000\n",
       "09-10-2013     0.000000\n",
       "09-12-2013     0.208768\n",
       "14-09-2013     0.208768\n",
       "16-09-2013     0.208768\n",
       "18-09-2013     0.208768\n",
       "20-09-2013     0.208768\n",
       "22-09-2013     0.208768\n",
       "24-09-2013     0.000000\n",
       "26-09-2013    46.346555\n",
       "28-09-2013     0.000000\n",
       "30-09-2013    53.653445\n",
       "10-02-2013    54.070981\n",
       "10-04-2013    53.862213\n",
       "10-06-2013     0.000000\n",
       "10-08-2013    53.235908\n",
       "10-10-2013    53.235908\n",
       "10-12-2013     0.000000\n",
       "dtype: float64"
      ]
     },
     "execution_count": 254,
     "metadata": {},
     "output_type": "execute_result"
    }
   ],
   "source": [
    "# Print the null percetange of each column of inp1.\n",
    "inp1.isnull().sum()*100/len(inp1)"
   ]
  },
  {
   "cell_type": "code",
   "execution_count": 255,
   "metadata": {},
   "outputs": [],
   "source": [
    "# Drop the columns in \"Dress Sales\" which have more than 40% of missing values.\n",
    "inp1.drop(['26-09-2013','30-09-2013','10-02-2013','10-04-2013','10-08-2013','10-10-2013'],axis=1,inplace=True)"
   ]
  },
  {
   "cell_type": "markdown",
   "metadata": {},
   "source": [
    "You should categorise the dates into seasons in “Dress Sales” data to simplify the analysis according to the following criteria:\n",
    "- June, July and August: Summer.\n",
    "- September, October and November: Autumn.\n",
    "- December, January and February: WInter.\n",
    "- March, April and May: Spring.\n",
    "\n",
    "\n"
   ]
  },
  {
   "cell_type": "code",
   "execution_count": 256,
   "metadata": {},
   "outputs": [
    {
     "name": "stdout",
     "output_type": "stream",
     "text": [
      "<class 'pandas.core.frame.DataFrame'>\n",
      "RangeIndex: 479 entries, 0 to 478\n",
      "Data columns (total 18 columns):\n",
      " #   Column      Non-Null Count  Dtype  \n",
      "---  ------      --------------  -----  \n",
      " 0   Dress_ID    479 non-null    float64\n",
      " 1   29-08-2013  479 non-null    int64  \n",
      " 2   31-08-2013  479 non-null    int64  \n",
      " 3   09-02-2013  479 non-null    int64  \n",
      " 4   09-04-2013  479 non-null    int64  \n",
      " 5   09-06-2013  479 non-null    int64  \n",
      " 6   09-08-2013  479 non-null    int64  \n",
      " 7   09-10-2013  479 non-null    int64  \n",
      " 8   09-12-2013  478 non-null    float64\n",
      " 9   14-09-2013  478 non-null    float64\n",
      " 10  16-09-2013  478 non-null    float64\n",
      " 11  18-09-2013  478 non-null    float64\n",
      " 12  20-09-2013  478 non-null    float64\n",
      " 13  22-09-2013  478 non-null    float64\n",
      " 14  24-09-2013  479 non-null    int64  \n",
      " 15  28-09-2013  479 non-null    int64  \n",
      " 16  10-06-2013  479 non-null    int64  \n",
      " 17  10-12-2013  479 non-null    int64  \n",
      "dtypes: float64(7), int64(11)\n",
      "memory usage: 67.5 KB\n"
     ]
    }
   ],
   "source": [
    "inp1.info()"
   ]
  },
  {
   "cell_type": "code",
   "execution_count": 257,
   "metadata": {},
   "outputs": [],
   "source": [
    "# Create the four seasons columns in inp1, according to the above criteria.\n",
    "inp1['Spring'] = inp1.apply(lambda x: x['09-04-2013'], axis=1)\n",
    "\n",
    "inp1['Summer'] = inp1.apply(lambda x: x['29-08-2013'] + x['31-08-2013']+ x['09-06-2013']+ x['09-08-2013']+ x['10-06-2013'], axis=1)\n",
    "\n",
    "inp1['Winter'] = inp1.apply(lambda x: x['09-02-2013'] + x['09-12-2013']+ x['10-12-2013'], axis=1)\n",
    "\n",
    "inp1['Autumn'] = inp1.apply(lambda x: x['09-10-2013'] + x['14-09-2013']+ x['16-09-2013']+ x['18-09-2013']+ x['20-09-2013']+ x['22-09-2013']+ x['24-09-2013']+ x['28-09-2013'], axis=1)"
   ]
  },
  {
   "cell_type": "code",
   "execution_count": 258,
   "metadata": {},
   "outputs": [
    {
     "data": {
      "text/plain": [
       "Spring     143600.0\n",
       "Summer     691907.0\n",
       "Winter     473640.0\n",
       "Autumn    1351045.0\n",
       "dtype: float64"
      ]
     },
     "execution_count": 258,
     "metadata": {},
     "output_type": "execute_result"
    }
   ],
   "source": [
    "# calculate the sum of sales in each seasons in inp1 i.e. \"Dress Sales\".\n",
    "inp1[['Spring','Summer','Winter','Autumn']].sum()"
   ]
  },
  {
   "cell_type": "markdown",
   "metadata": {},
   "source": [
    "Now let's merge inp1 with inp0 with left join manner, so that the information of inp0 should remain intact."
   ]
  },
  {
   "cell_type": "code",
   "execution_count": 259,
   "metadata": {},
   "outputs": [
    {
     "data": {
      "text/html": [
       "<div>\n",
       "<style scoped>\n",
       "    .dataframe tbody tr th:only-of-type {\n",
       "        vertical-align: middle;\n",
       "    }\n",
       "\n",
       "    .dataframe tbody tr th {\n",
       "        vertical-align: top;\n",
       "    }\n",
       "\n",
       "    .dataframe thead th {\n",
       "        text-align: right;\n",
       "    }\n",
       "</style>\n",
       "<table border=\"1\" class=\"dataframe\">\n",
       "  <thead>\n",
       "    <tr style=\"text-align: right;\">\n",
       "      <th></th>\n",
       "      <th>Dress_ID</th>\n",
       "      <th>Style</th>\n",
       "      <th>Price</th>\n",
       "      <th>Rating</th>\n",
       "      <th>Size</th>\n",
       "      <th>Season</th>\n",
       "      <th>NeckLine</th>\n",
       "      <th>SleeveLength</th>\n",
       "      <th>Material</th>\n",
       "      <th>FabricType</th>\n",
       "      <th>...</th>\n",
       "      <th>20-09-2013</th>\n",
       "      <th>22-09-2013</th>\n",
       "      <th>24-09-2013</th>\n",
       "      <th>28-09-2013</th>\n",
       "      <th>10-06-2013</th>\n",
       "      <th>10-12-2013</th>\n",
       "      <th>Spring</th>\n",
       "      <th>Summer</th>\n",
       "      <th>Winter</th>\n",
       "      <th>Autumn</th>\n",
       "    </tr>\n",
       "  </thead>\n",
       "  <tbody>\n",
       "    <tr>\n",
       "      <th>0</th>\n",
       "      <td>1006032852</td>\n",
       "      <td>Sexy</td>\n",
       "      <td>Low</td>\n",
       "      <td>4.6</td>\n",
       "      <td>Medium</td>\n",
       "      <td>Summer</td>\n",
       "      <td>o-neck</td>\n",
       "      <td>sleevless</td>\n",
       "      <td>NaN</td>\n",
       "      <td>chiffon</td>\n",
       "      <td>...</td>\n",
       "      <td>3386.0</td>\n",
       "      <td>3479.0</td>\n",
       "      <td>3554</td>\n",
       "      <td>3706</td>\n",
       "      <td>3897</td>\n",
       "      <td>4048</td>\n",
       "      <td>2660.0</td>\n",
       "      <td>13899.0</td>\n",
       "      <td>9658.0</td>\n",
       "      <td>26784.0</td>\n",
       "    </tr>\n",
       "    <tr>\n",
       "      <th>1</th>\n",
       "      <td>1212192089</td>\n",
       "      <td>Casual</td>\n",
       "      <td>Low</td>\n",
       "      <td>0.0</td>\n",
       "      <td>Large</td>\n",
       "      <td>Summer</td>\n",
       "      <td>o-neck</td>\n",
       "      <td>Petal</td>\n",
       "      <td>microfiber</td>\n",
       "      <td>NaN</td>\n",
       "      <td>...</td>\n",
       "      <td>2106.0</td>\n",
       "      <td>2454.0</td>\n",
       "      <td>2710</td>\n",
       "      <td>3258</td>\n",
       "      <td>3911</td>\n",
       "      <td>4277</td>\n",
       "      <td>750.0</td>\n",
       "      <td>6216.0</td>\n",
       "      <td>6405.0</td>\n",
       "      <td>17189.0</td>\n",
       "    </tr>\n",
       "    <tr>\n",
       "      <th>2</th>\n",
       "      <td>1190380701</td>\n",
       "      <td>vintage</td>\n",
       "      <td>High</td>\n",
       "      <td>0.0</td>\n",
       "      <td>Large</td>\n",
       "      <td>Automn</td>\n",
       "      <td>o-neck</td>\n",
       "      <td>full</td>\n",
       "      <td>polyster</td>\n",
       "      <td>NaN</td>\n",
       "      <td>...</td>\n",
       "      <td>10.0</td>\n",
       "      <td>11.0</td>\n",
       "      <td>11</td>\n",
       "      <td>11</td>\n",
       "      <td>11</td>\n",
       "      <td>11</td>\n",
       "      <td>7.0</td>\n",
       "      <td>40.0</td>\n",
       "      <td>28.0</td>\n",
       "      <td>82.0</td>\n",
       "    </tr>\n",
       "    <tr>\n",
       "      <th>3</th>\n",
       "      <td>966005983</td>\n",
       "      <td>Brief</td>\n",
       "      <td>Average</td>\n",
       "      <td>4.6</td>\n",
       "      <td>Large</td>\n",
       "      <td>Spring</td>\n",
       "      <td>o-neck</td>\n",
       "      <td>full</td>\n",
       "      <td>silk</td>\n",
       "      <td>chiffon</td>\n",
       "      <td>...</td>\n",
       "      <td>1812.0</td>\n",
       "      <td>1845.0</td>\n",
       "      <td>1878</td>\n",
       "      <td>1914</td>\n",
       "      <td>1952</td>\n",
       "      <td>1963</td>\n",
       "      <td>1455.0</td>\n",
       "      <td>7213.0</td>\n",
       "      <td>5012.0</td>\n",
       "      <td>14374.0</td>\n",
       "    </tr>\n",
       "    <tr>\n",
       "      <th>4</th>\n",
       "      <td>876339541</td>\n",
       "      <td>cute</td>\n",
       "      <td>Low</td>\n",
       "      <td>4.5</td>\n",
       "      <td>Medium</td>\n",
       "      <td>Summer</td>\n",
       "      <td>o-neck</td>\n",
       "      <td>butterfly</td>\n",
       "      <td>chiffonfabric</td>\n",
       "      <td>chiffon</td>\n",
       "      <td>...</td>\n",
       "      <td>1824.0</td>\n",
       "      <td>1919.0</td>\n",
       "      <td>2032</td>\n",
       "      <td>2252</td>\n",
       "      <td>2544</td>\n",
       "      <td>2736</td>\n",
       "      <td>1396.0</td>\n",
       "      <td>7706.0</td>\n",
       "      <td>5678.0</td>\n",
       "      <td>14650.0</td>\n",
       "    </tr>\n",
       "  </tbody>\n",
       "</table>\n",
       "<p>5 rows × 34 columns</p>\n",
       "</div>"
      ],
      "text/plain": [
       "     Dress_ID    Style    Price  Rating    Size  Season NeckLine SleeveLength  \\\n",
       "0  1006032852     Sexy      Low     4.6  Medium  Summer   o-neck    sleevless   \n",
       "1  1212192089   Casual      Low     0.0   Large  Summer   o-neck        Petal   \n",
       "2  1190380701  vintage     High     0.0   Large  Automn   o-neck         full   \n",
       "3   966005983    Brief  Average     4.6   Large  Spring   o-neck         full   \n",
       "4   876339541     cute      Low     4.5  Medium  Summer   o-neck    butterfly   \n",
       "\n",
       "        Material FabricType  ... 20-09-2013 22-09-2013  24-09-2013  \\\n",
       "0            NaN    chiffon  ...     3386.0     3479.0        3554   \n",
       "1     microfiber        NaN  ...     2106.0     2454.0        2710   \n",
       "2       polyster        NaN  ...       10.0       11.0          11   \n",
       "3           silk    chiffon  ...     1812.0     1845.0        1878   \n",
       "4  chiffonfabric    chiffon  ...     1824.0     1919.0        2032   \n",
       "\n",
       "   28-09-2013  10-06-2013  10-12-2013  Spring   Summer  Winter   Autumn  \n",
       "0        3706        3897        4048  2660.0  13899.0  9658.0  26784.0  \n",
       "1        3258        3911        4277   750.0   6216.0  6405.0  17189.0  \n",
       "2          11          11          11     7.0     40.0    28.0     82.0  \n",
       "3        1914        1952        1963  1455.0   7213.0  5012.0  14374.0  \n",
       "4        2252        2544        2736  1396.0   7706.0  5678.0  14650.0  \n",
       "\n",
       "[5 rows x 34 columns]"
      ]
     },
     "execution_count": 259,
     "metadata": {},
     "output_type": "execute_result"
    }
   ],
   "source": [
    "# Merge inp0 with inp1 into inp0. this is also called left merge.\n",
    "inp0 = pd.merge(left=inp0,right=inp1, how='left', left_on='Dress_ID', right_on='Dress_ID')\n",
    "inp0.head()"
   ]
  },
  {
   "cell_type": "code",
   "execution_count": 260,
   "metadata": {},
   "outputs": [
    {
     "data": {
      "text/plain": [
       "Index(['Dress_ID', 'Style', 'Price', 'Rating', 'Size', 'Season', 'NeckLine',\n",
       "       'SleeveLength', 'Material', 'FabricType', 'Decoration', 'Pattern Type',\n",
       "       'Recommendation', '29-08-2013', '31-08-2013', '09-02-2013',\n",
       "       '09-04-2013', '09-06-2013', '09-08-2013', '09-10-2013', '09-12-2013',\n",
       "       '14-09-2013', '16-09-2013', '18-09-2013', '20-09-2013', '22-09-2013',\n",
       "       '24-09-2013', '28-09-2013', '10-06-2013', '10-12-2013', 'Spring',\n",
       "       'Summer', 'Winter', 'Autumn'],\n",
       "      dtype='object')"
      ]
     },
     "execution_count": 260,
     "metadata": {},
     "output_type": "execute_result"
    }
   ],
   "source": [
    "inp0.columns"
   ]
  },
  {
   "cell_type": "code",
   "execution_count": 261,
   "metadata": {},
   "outputs": [
    {
     "data": {
      "text/plain": [
       "Dress_ID            0\n",
       "Style               0\n",
       "Price               2\n",
       "Rating              0\n",
       "Size                0\n",
       "Season              2\n",
       "NeckLine            3\n",
       "SleeveLength        2\n",
       "Material          119\n",
       "FabricType        256\n",
       "Decoration        224\n",
       "Pattern Type      102\n",
       "Recommendation      0\n",
       "Spring              0\n",
       "Summer              0\n",
       "Winter              1\n",
       "Autumn              2\n",
       "dtype: int64"
      ]
     },
     "execution_count": 261,
     "metadata": {},
     "output_type": "execute_result"
    }
   ],
   "source": [
    "# Now Drop the Date columns from inp0 as it is already combined into four seasons.\n",
    "inp0.drop(inp0.loc[:,'29-08-2013':'10-12-2013'].columns, axis= 1, inplace= True)\n",
    "inp0.isnull().sum()"
   ]
  },
  {
   "cell_type": "markdown",
   "metadata": {},
   "source": [
    "Print the null count of inp0 to get the idea about the missing values in data set."
   ]
  },
  {
   "cell_type": "markdown",
   "metadata": {},
   "source": [
    "You can see that there are two types of variables one with a large number of missing values and another is very less number of missing values. These two columns can be categorized as:\n",
    "\n",
    "Type-1: Missing values are very less (around 2 or 3 missing values): Price, Season, NeckLine, SleeveLength, Winter and Autumn. \n",
    "\n",
    "Type-2: Missing values are large in numbers (more than 15%): Material, FabricType, Decoration and Pattern Type.\n",
    "\n"
   ]
  },
  {
   "cell_type": "code",
   "execution_count": 262,
   "metadata": {},
   "outputs": [],
   "source": [
    "# Deal with the missing values of Type-1 columns: Price, Season, NeckLine, SleeveLength, Winter and Autumn.\n",
    "inp0 = inp0[~inp0.Price.isnull()]\n",
    "\n",
    "inp0 = inp0[~inp0.Season.isnull()]\n",
    "\n",
    "inp0 = inp0[~inp0.NeckLine.isnull()]\n",
    "\n",
    "inp0 = inp0[~inp0.SleeveLength.isnull()]\n",
    "\n",
    "inp0 = inp0[~inp0.Winter.isnull()]\n",
    "\n",
    "inp0 = inp0[~inp0.Autumn.isnull()]"
   ]
  },
  {
   "cell_type": "code",
   "execution_count": 263,
   "metadata": {},
   "outputs": [],
   "source": [
    "# Deal with the missing values for Type-2 columns: Material, FabricType, Decoration and Pattern Type.\n",
    "inp0.Material= inp0.Material.replace(np.nan, \"Missing\")\n",
    "\n",
    "inp0.FabricType= inp0.FabricType.replace(np.nan, \"Missing\")\n",
    "\n",
    "inp0.Decoration= inp0.Decoration.replace(np.nan, \"Missing\")\n",
    "\n",
    "inp0['Pattern Type']= inp0['Pattern Type'].replace(np.nan, \"Missing\")"
   ]
  },
  {
   "cell_type": "markdown",
   "metadata": {},
   "source": [
    "### Standardise value "
   ]
  },
  {
   "cell_type": "markdown",
   "metadata": {},
   "source": [
    "In the given dataset, there are certain discrepancies with the categorical names such as irregular spellings. Choose the correct option of columns with irregular categories and update them.\n",
    " \n",
    "- Season, NeckLine\n",
    "- Price, Material\n",
    "- fabricType, Decoration\n",
    "- Season, SleeveLength\n"
   ]
  },
  {
   "cell_type": "code",
   "execution_count": 264,
   "metadata": {},
   "outputs": [
    {
     "data": {
      "text/plain": [
       "Season\n",
       "Summer    151\n",
       "Spring    116\n",
       "Winter     92\n",
       "Automn     59\n",
       "winter     44\n",
       "Autumn      7\n",
       "spring      2\n",
       "Name: count, dtype: int64"
      ]
     },
     "execution_count": 264,
     "metadata": {},
     "output_type": "execute_result"
    }
   ],
   "source": [
    "#correcting the spellings.\n",
    "inp0['Season'].value_counts()"
   ]
  },
  {
   "cell_type": "code",
   "execution_count": 265,
   "metadata": {},
   "outputs": [
    {
     "data": {
      "text/plain": [
       "NeckLine\n",
       "o-neck             255\n",
       "v-neck             117\n",
       "slash-neck          25\n",
       "boat-neck           18\n",
       "turndowncollor      13\n",
       "Sweetheart          13\n",
       "bowneck             10\n",
       "peterpan-collor      5\n",
       "sqare-collor         5\n",
       "open                 3\n",
       "Scoop                2\n",
       "ruffled              1\n",
       "mandarin-collor      1\n",
       "sweetheart           1\n",
       "halter               1\n",
       "backless             1\n",
       "Name: count, dtype: int64"
      ]
     },
     "execution_count": 265,
     "metadata": {},
     "output_type": "execute_result"
    }
   ],
   "source": [
    "#correcting the spellings.\n",
    "inp0['NeckLine'].value_counts()"
   ]
  },
  {
   "cell_type": "code",
   "execution_count": 266,
   "metadata": {},
   "outputs": [
    {
     "data": {
      "text/plain": [
       "SleeveLength\n",
       "sleevless         213\n",
       "short              92\n",
       "full               91\n",
       "halfsleeve         32\n",
       "threequarter       17\n",
       "thressqatar         8\n",
       "sleeveless          4\n",
       "capsleeves          3\n",
       "sleeevless          2\n",
       "cap-sleeves         2\n",
       "urndowncollor       1\n",
       "half                1\n",
       "turndowncollor      1\n",
       "threequater         1\n",
       "Petal               1\n",
       "butterfly           1\n",
       "sleveless           1\n",
       "Name: count, dtype: int64"
      ]
     },
     "execution_count": 266,
     "metadata": {},
     "output_type": "execute_result"
    }
   ],
   "source": [
    "#correcting the spellings.\n",
    "inp0['SleeveLength'].value_counts()"
   ]
  },
  {
   "cell_type": "code",
   "execution_count": 267,
   "metadata": {},
   "outputs": [],
   "source": [
    "#correcting the Spellings.\n",
    "inp0.Season= inp0.Season.replace('Automn', \"Autumn\")\n",
    "\n",
    "inp0.Season= inp0.Season.replace('spring', \"Spring\")\n",
    "\n",
    "inp0.Season= inp0.Season.replace('winter', \"Winter\")"
   ]
  },
  {
   "cell_type": "code",
   "execution_count": 268,
   "metadata": {},
   "outputs": [],
   "source": [
    "inp0.SleeveLength= inp0.SleeveLength.replace(['cap-sleeves', 'capsleeves'], \"cap sleeves\")\n",
    "\n",
    "inp0.SleeveLength= inp0.SleeveLength.replace('full', \"full sleeves\")\n",
    "\n",
    "inp0.SleeveLength= inp0.SleeveLength.replace(['half','halfsleeve'], \"half sleeves\")\n",
    "\n",
    "inp0.SleeveLength= inp0.SleeveLength.replace(['sleevless', 'sleeevless', 'sleeveless', 'sleveless'], \"sleeve less\")\n",
    "\n",
    "inp0.SleeveLength= inp0.SleeveLength.replace(['threequarter','threequater', 'thressqatar'], \"three quater\")\n",
    "\n",
    "inp0.SleeveLength= inp0.SleeveLength.replace(['turndowncollor','urndowncollor'], \"turn down collar\")"
   ]
  },
  {
   "cell_type": "markdown",
   "metadata": {},
   "source": [
    "## Univariate Analysis "
   ]
  },
  {
   "cell_type": "markdown",
   "metadata": {},
   "source": [
    "### Categorical Unordered Univariate Analysis\n",
    " "
   ]
  },
  {
   "cell_type": "markdown",
   "metadata": {},
   "source": [
    "There is a column named ‘Style’ in ‘Attribute Dataset’ which consists of the different style categories of the women apparels. Certain categories whose total sale is less than 50000 across all the seasons is considered under one single category as ‘Others’.\n"
   ]
  },
  {
   "cell_type": "markdown",
   "metadata": {},
   "source": [
    "Which of the following categories in ‘Style’ column can be grouped into ‘Others’ category? and perform the grouping operation in the notebook for further analysis.\n",
    "- Flare, fashion\n",
    "- Novelty, bohemian\n",
    "- OL, fashion, work\n",
    "- Novelty, fashion, Flare\n"
   ]
  },
  {
   "cell_type": "code",
   "execution_count": 269,
   "metadata": {},
   "outputs": [
    {
     "data": {
      "text/html": [
       "<div>\n",
       "<style scoped>\n",
       "    .dataframe tbody tr th:only-of-type {\n",
       "        vertical-align: middle;\n",
       "    }\n",
       "\n",
       "    .dataframe tbody tr th {\n",
       "        vertical-align: top;\n",
       "    }\n",
       "\n",
       "    .dataframe thead th {\n",
       "        text-align: right;\n",
       "    }\n",
       "</style>\n",
       "<table border=\"1\" class=\"dataframe\">\n",
       "  <thead>\n",
       "    <tr style=\"text-align: right;\">\n",
       "      <th></th>\n",
       "      <th>Dress_ID</th>\n",
       "      <th>Style</th>\n",
       "      <th>Price</th>\n",
       "      <th>Rating</th>\n",
       "      <th>Size</th>\n",
       "      <th>Season</th>\n",
       "      <th>NeckLine</th>\n",
       "      <th>SleeveLength</th>\n",
       "      <th>Material</th>\n",
       "      <th>FabricType</th>\n",
       "      <th>Decoration</th>\n",
       "      <th>Pattern Type</th>\n",
       "      <th>Recommendation</th>\n",
       "      <th>Spring</th>\n",
       "      <th>Summer</th>\n",
       "      <th>Winter</th>\n",
       "      <th>Autumn</th>\n",
       "    </tr>\n",
       "  </thead>\n",
       "  <tbody>\n",
       "    <tr>\n",
       "      <th>0</th>\n",
       "      <td>1006032852</td>\n",
       "      <td>Sexy</td>\n",
       "      <td>Low</td>\n",
       "      <td>4.6</td>\n",
       "      <td>Medium</td>\n",
       "      <td>Summer</td>\n",
       "      <td>o-neck</td>\n",
       "      <td>sleeve less</td>\n",
       "      <td>Missing</td>\n",
       "      <td>chiffon</td>\n",
       "      <td>ruffles</td>\n",
       "      <td>animal</td>\n",
       "      <td>1</td>\n",
       "      <td>2660.0</td>\n",
       "      <td>13899.0</td>\n",
       "      <td>9658.0</td>\n",
       "      <td>26784.0</td>\n",
       "    </tr>\n",
       "    <tr>\n",
       "      <th>1</th>\n",
       "      <td>1212192089</td>\n",
       "      <td>Casual</td>\n",
       "      <td>Low</td>\n",
       "      <td>0.0</td>\n",
       "      <td>Large</td>\n",
       "      <td>Summer</td>\n",
       "      <td>o-neck</td>\n",
       "      <td>Petal</td>\n",
       "      <td>microfiber</td>\n",
       "      <td>Missing</td>\n",
       "      <td>ruffles</td>\n",
       "      <td>animal</td>\n",
       "      <td>0</td>\n",
       "      <td>750.0</td>\n",
       "      <td>6216.0</td>\n",
       "      <td>6405.0</td>\n",
       "      <td>17189.0</td>\n",
       "    </tr>\n",
       "    <tr>\n",
       "      <th>2</th>\n",
       "      <td>1190380701</td>\n",
       "      <td>vintage</td>\n",
       "      <td>High</td>\n",
       "      <td>0.0</td>\n",
       "      <td>Large</td>\n",
       "      <td>Autumn</td>\n",
       "      <td>o-neck</td>\n",
       "      <td>full sleeves</td>\n",
       "      <td>polyster</td>\n",
       "      <td>Missing</td>\n",
       "      <td>Missing</td>\n",
       "      <td>print</td>\n",
       "      <td>0</td>\n",
       "      <td>7.0</td>\n",
       "      <td>40.0</td>\n",
       "      <td>28.0</td>\n",
       "      <td>82.0</td>\n",
       "    </tr>\n",
       "    <tr>\n",
       "      <th>3</th>\n",
       "      <td>966005983</td>\n",
       "      <td>Brief</td>\n",
       "      <td>Average</td>\n",
       "      <td>4.6</td>\n",
       "      <td>Large</td>\n",
       "      <td>Spring</td>\n",
       "      <td>o-neck</td>\n",
       "      <td>full sleeves</td>\n",
       "      <td>silk</td>\n",
       "      <td>chiffon</td>\n",
       "      <td>embroidary</td>\n",
       "      <td>print</td>\n",
       "      <td>1</td>\n",
       "      <td>1455.0</td>\n",
       "      <td>7213.0</td>\n",
       "      <td>5012.0</td>\n",
       "      <td>14374.0</td>\n",
       "    </tr>\n",
       "    <tr>\n",
       "      <th>4</th>\n",
       "      <td>876339541</td>\n",
       "      <td>cute</td>\n",
       "      <td>Low</td>\n",
       "      <td>4.5</td>\n",
       "      <td>Medium</td>\n",
       "      <td>Summer</td>\n",
       "      <td>o-neck</td>\n",
       "      <td>butterfly</td>\n",
       "      <td>chiffonfabric</td>\n",
       "      <td>chiffon</td>\n",
       "      <td>bow</td>\n",
       "      <td>dot</td>\n",
       "      <td>0</td>\n",
       "      <td>1396.0</td>\n",
       "      <td>7706.0</td>\n",
       "      <td>5678.0</td>\n",
       "      <td>14650.0</td>\n",
       "    </tr>\n",
       "  </tbody>\n",
       "</table>\n",
       "</div>"
      ],
      "text/plain": [
       "     Dress_ID    Style    Price  Rating    Size  Season NeckLine  \\\n",
       "0  1006032852     Sexy      Low     4.6  Medium  Summer   o-neck   \n",
       "1  1212192089   Casual      Low     0.0   Large  Summer   o-neck   \n",
       "2  1190380701  vintage     High     0.0   Large  Autumn   o-neck   \n",
       "3   966005983    Brief  Average     4.6   Large  Spring   o-neck   \n",
       "4   876339541     cute      Low     4.5  Medium  Summer   o-neck   \n",
       "\n",
       "   SleeveLength       Material FabricType  Decoration Pattern Type  \\\n",
       "0   sleeve less        Missing    chiffon     ruffles       animal   \n",
       "1         Petal     microfiber    Missing     ruffles       animal   \n",
       "2  full sleeves       polyster    Missing     Missing        print   \n",
       "3  full sleeves           silk    chiffon  embroidary        print   \n",
       "4     butterfly  chiffonfabric    chiffon         bow          dot   \n",
       "\n",
       "   Recommendation  Spring   Summer  Winter   Autumn  \n",
       "0               1  2660.0  13899.0  9658.0  26784.0  \n",
       "1               0   750.0   6216.0  6405.0  17189.0  \n",
       "2               0     7.0     40.0    28.0     82.0  \n",
       "3               1  1455.0   7213.0  5012.0  14374.0  \n",
       "4               0  1396.0   7706.0  5678.0  14650.0  "
      ]
     },
     "execution_count": 269,
     "metadata": {},
     "output_type": "execute_result"
    }
   ],
   "source": [
    "inp0.head()"
   ]
  },
  {
   "cell_type": "code",
   "execution_count": 270,
   "metadata": {},
   "outputs": [],
   "source": [
    "# Group \"Style\" categories into \"Others\" which have less than 50000 sales across all the seasons.\n",
    "inp0['total_sales']=inp0['Spring']+inp0['Summer']+inp0['Winter']+inp0['Autumn']\n"
   ]
  },
  {
   "cell_type": "code",
   "execution_count": 271,
   "metadata": {},
   "outputs": [
    {
     "data": {
      "text/html": [
       "<div>\n",
       "<style scoped>\n",
       "    .dataframe tbody tr th:only-of-type {\n",
       "        vertical-align: middle;\n",
       "    }\n",
       "\n",
       "    .dataframe tbody tr th {\n",
       "        vertical-align: top;\n",
       "    }\n",
       "\n",
       "    .dataframe thead th {\n",
       "        text-align: right;\n",
       "    }\n",
       "</style>\n",
       "<table border=\"1\" class=\"dataframe\">\n",
       "  <thead>\n",
       "    <tr style=\"text-align: right;\">\n",
       "      <th></th>\n",
       "      <th>Dress_ID</th>\n",
       "      <th>Price</th>\n",
       "      <th>Rating</th>\n",
       "      <th>Size</th>\n",
       "      <th>Season</th>\n",
       "      <th>NeckLine</th>\n",
       "      <th>SleeveLength</th>\n",
       "      <th>Material</th>\n",
       "      <th>FabricType</th>\n",
       "      <th>Decoration</th>\n",
       "      <th>Pattern Type</th>\n",
       "      <th>Recommendation</th>\n",
       "      <th>Spring</th>\n",
       "      <th>Summer</th>\n",
       "      <th>Winter</th>\n",
       "      <th>Autumn</th>\n",
       "      <th>total_sales</th>\n",
       "    </tr>\n",
       "    <tr>\n",
       "      <th>Style</th>\n",
       "      <th></th>\n",
       "      <th></th>\n",
       "      <th></th>\n",
       "      <th></th>\n",
       "      <th></th>\n",
       "      <th></th>\n",
       "      <th></th>\n",
       "      <th></th>\n",
       "      <th></th>\n",
       "      <th></th>\n",
       "      <th></th>\n",
       "      <th></th>\n",
       "      <th></th>\n",
       "      <th></th>\n",
       "      <th></th>\n",
       "      <th></th>\n",
       "      <th></th>\n",
       "    </tr>\n",
       "  </thead>\n",
       "  <tbody>\n",
       "    <tr>\n",
       "      <th>Brief</th>\n",
       "      <td>14913154280</td>\n",
       "      <td>AverageAverageLowAverageAverageAverageLowAvera...</td>\n",
       "      <td>69.1</td>\n",
       "      <td>LargeMediumExtra LargeLargeMediumFreeLargeMedi...</td>\n",
       "      <td>SpringWinterSummerSpringAutumnSpringAutumnWint...</td>\n",
       "      <td>o-neckpeterpan-collorv-necko-necko-neckv-necko...</td>\n",
       "      <td>full sleevesthree quatershortsleeve lessshorts...</td>\n",
       "      <td>silkcottoncottonMissingcottoncottonrayoncotton...</td>\n",
       "      <td>chiffonMissingMissingMissingMissingbroadclothc...</td>\n",
       "      <td>embroidaryMissingpocketsbowMissinglacesashesMi...</td>\n",
       "      <td>printpatchworksolidsolidprintsolidsolidsolidso...</td>\n",
       "      <td>4</td>\n",
       "      <td>7484.0</td>\n",
       "      <td>37303.0</td>\n",
       "      <td>25020.0</td>\n",
       "      <td>69696.0</td>\n",
       "      <td>139503.0</td>\n",
       "    </tr>\n",
       "    <tr>\n",
       "      <th>Casual</th>\n",
       "      <td>192788739987</td>\n",
       "      <td>LowAverageLowLowLowLowAverageLowAverageLowAver...</td>\n",
       "      <td>765.7</td>\n",
       "      <td>LargeExtra LargeMediumFreeMediumLargeLargeMedi...</td>\n",
       "      <td>SummerSummerSummerWinterSummerSummerAutumnSpri...</td>\n",
       "      <td>o-necko-neckboat-neckboat-necko-necko-necko-ne...</td>\n",
       "      <td>Petalfull sleevesshortfull sleevessleeve lesss...</td>\n",
       "      <td>microfibercottoncottonotherMissingcottonpolyst...</td>\n",
       "      <td>MissingMissingMissingotherchiffonjerseychiffon...</td>\n",
       "      <td>rufflesMissingsasheslaceMissingMissingrufflesa...</td>\n",
       "      <td>animalsolidsolidMissingsolidprintsolidsolidani...</td>\n",
       "      <td>84</td>\n",
       "      <td>60979.0</td>\n",
       "      <td>282913.0</td>\n",
       "      <td>192922.0</td>\n",
       "      <td>565650.0</td>\n",
       "      <td>1102464.0</td>\n",
       "    </tr>\n",
       "    <tr>\n",
       "      <th>Flare</th>\n",
       "      <td>2011575734</td>\n",
       "      <td>AverageAverage</td>\n",
       "      <td>0.0</td>\n",
       "      <td>FreeFree</td>\n",
       "      <td>SpringSpring</td>\n",
       "      <td>v-neckv-neck</td>\n",
       "      <td>shortshort</td>\n",
       "      <td>cottonnylon</td>\n",
       "      <td>broadclothMissing</td>\n",
       "      <td>beadingMissing</td>\n",
       "      <td>solidanimal</td>\n",
       "      <td>1</td>\n",
       "      <td>71.0</td>\n",
       "      <td>451.0</td>\n",
       "      <td>406.0</td>\n",
       "      <td>1155.0</td>\n",
       "      <td>2083.0</td>\n",
       "    </tr>\n",
       "    <tr>\n",
       "      <th>Novelty</th>\n",
       "      <td>6799573268</td>\n",
       "      <td>AverageAverageAverageMediumAverageAverage</td>\n",
       "      <td>14.1</td>\n",
       "      <td>SmallLargeFreeMediumFreeFree</td>\n",
       "      <td>WinterAutumnSummerWinterWinterSummer</td>\n",
       "      <td>turndowncolloro-necko-necko-necko-necko-neck</td>\n",
       "      <td>full sleevesshortfull sleeveshalf sleevesshort...</td>\n",
       "      <td>cottonpolystercottonpolysterpolysterMissing</td>\n",
       "      <td>MissingchiffonsattinchiffonbroadclothMissing</td>\n",
       "      <td>MissingMissinghollowouthollowoutlaceMissing</td>\n",
       "      <td>patchworkprintsolidanimalMissingprint</td>\n",
       "      <td>3</td>\n",
       "      <td>563.0</td>\n",
       "      <td>2866.0</td>\n",
       "      <td>2504.0</td>\n",
       "      <td>7233.0</td>\n",
       "      <td>13166.0</td>\n",
       "    </tr>\n",
       "    <tr>\n",
       "      <th>OL</th>\n",
       "      <td>1194626925</td>\n",
       "      <td>Medium</td>\n",
       "      <td>0.0</td>\n",
       "      <td>Medium</td>\n",
       "      <td>Winter</td>\n",
       "      <td>mandarin-collor</td>\n",
       "      <td>half sleeves</td>\n",
       "      <td>cotton</td>\n",
       "      <td>Missing</td>\n",
       "      <td>sashes</td>\n",
       "      <td>solid</td>\n",
       "      <td>0</td>\n",
       "      <td>15.0</td>\n",
       "      <td>63.0</td>\n",
       "      <td>53.0</td>\n",
       "      <td>157.0</td>\n",
       "      <td>288.0</td>\n",
       "    </tr>\n",
       "  </tbody>\n",
       "</table>\n",
       "</div>"
      ],
      "text/plain": [
       "             Dress_ID                                              Price  \\\n",
       "Style                                                                      \n",
       "Brief     14913154280  AverageAverageLowAverageAverageAverageLowAvera...   \n",
       "Casual   192788739987  LowAverageLowLowLowLowAverageLowAverageLowAver...   \n",
       "Flare      2011575734                                     AverageAverage   \n",
       "Novelty    6799573268          AverageAverageAverageMediumAverageAverage   \n",
       "OL         1194626925                                             Medium   \n",
       "\n",
       "         Rating                                               Size  \\\n",
       "Style                                                                \n",
       "Brief      69.1  LargeMediumExtra LargeLargeMediumFreeLargeMedi...   \n",
       "Casual    765.7  LargeExtra LargeMediumFreeMediumLargeLargeMedi...   \n",
       "Flare       0.0                                           FreeFree   \n",
       "Novelty    14.1                       SmallLargeFreeMediumFreeFree   \n",
       "OL          0.0                                             Medium   \n",
       "\n",
       "                                                    Season  \\\n",
       "Style                                                        \n",
       "Brief    SpringWinterSummerSpringAutumnSpringAutumnWint...   \n",
       "Casual   SummerSummerSummerWinterSummerSummerAutumnSpri...   \n",
       "Flare                                         SpringSpring   \n",
       "Novelty               WinterAutumnSummerWinterWinterSummer   \n",
       "OL                                                  Winter   \n",
       "\n",
       "                                                  NeckLine  \\\n",
       "Style                                                        \n",
       "Brief    o-neckpeterpan-collorv-necko-necko-neckv-necko...   \n",
       "Casual   o-necko-neckboat-neckboat-necko-necko-necko-ne...   \n",
       "Flare                                         v-neckv-neck   \n",
       "Novelty       turndowncolloro-necko-necko-necko-necko-neck   \n",
       "OL                                         mandarin-collor   \n",
       "\n",
       "                                              SleeveLength  \\\n",
       "Style                                                        \n",
       "Brief    full sleevesthree quatershortsleeve lessshorts...   \n",
       "Casual   Petalfull sleevesshortfull sleevessleeve lesss...   \n",
       "Flare                                           shortshort   \n",
       "Novelty  full sleevesshortfull sleeveshalf sleevesshort...   \n",
       "OL                                            half sleeves   \n",
       "\n",
       "                                                  Material  \\\n",
       "Style                                                        \n",
       "Brief    silkcottoncottonMissingcottoncottonrayoncotton...   \n",
       "Casual   microfibercottoncottonotherMissingcottonpolyst...   \n",
       "Flare                                          cottonnylon   \n",
       "Novelty        cottonpolystercottonpolysterpolysterMissing   \n",
       "OL                                                  cotton   \n",
       "\n",
       "                                                FabricType  \\\n",
       "Style                                                        \n",
       "Brief    chiffonMissingMissingMissingMissingbroadclothc...   \n",
       "Casual   MissingMissingMissingotherchiffonjerseychiffon...   \n",
       "Flare                                    broadclothMissing   \n",
       "Novelty       MissingchiffonsattinchiffonbroadclothMissing   \n",
       "OL                                                 Missing   \n",
       "\n",
       "                                                Decoration  \\\n",
       "Style                                                        \n",
       "Brief    embroidaryMissingpocketsbowMissinglacesashesMi...   \n",
       "Casual   rufflesMissingsasheslaceMissingMissingrufflesa...   \n",
       "Flare                                       beadingMissing   \n",
       "Novelty        MissingMissinghollowouthollowoutlaceMissing   \n",
       "OL                                                  sashes   \n",
       "\n",
       "                                              Pattern Type  Recommendation  \\\n",
       "Style                                                                        \n",
       "Brief    printpatchworksolidsolidprintsolidsolidsolidso...               4   \n",
       "Casual   animalsolidsolidMissingsolidprintsolidsolidani...              84   \n",
       "Flare                                          solidanimal               1   \n",
       "Novelty              patchworkprintsolidanimalMissingprint               3   \n",
       "OL                                                   solid               0   \n",
       "\n",
       "          Spring    Summer    Winter    Autumn  total_sales  \n",
       "Style                                                        \n",
       "Brief     7484.0   37303.0   25020.0   69696.0     139503.0  \n",
       "Casual   60979.0  282913.0  192922.0  565650.0    1102464.0  \n",
       "Flare       71.0     451.0     406.0    1155.0       2083.0  \n",
       "Novelty    563.0    2866.0    2504.0    7233.0      13166.0  \n",
       "OL          15.0      63.0      53.0     157.0        288.0  "
      ]
     },
     "execution_count": 271,
     "metadata": {},
     "output_type": "execute_result"
    }
   ],
   "source": [
    "df=inp0.groupby(by='Style').sum()\n",
    "df.head()"
   ]
  },
  {
   "cell_type": "code",
   "execution_count": 273,
   "metadata": {},
   "outputs": [
    {
     "data": {
      "text/html": [
       "<div>\n",
       "<style scoped>\n",
       "    .dataframe tbody tr th:only-of-type {\n",
       "        vertical-align: middle;\n",
       "    }\n",
       "\n",
       "    .dataframe tbody tr th {\n",
       "        vertical-align: top;\n",
       "    }\n",
       "\n",
       "    .dataframe thead th {\n",
       "        text-align: right;\n",
       "    }\n",
       "</style>\n",
       "<table border=\"1\" class=\"dataframe\">\n",
       "  <thead>\n",
       "    <tr style=\"text-align: right;\">\n",
       "      <th></th>\n",
       "      <th>Dress_ID</th>\n",
       "      <th>Price</th>\n",
       "      <th>Rating</th>\n",
       "      <th>Size</th>\n",
       "      <th>Season</th>\n",
       "      <th>NeckLine</th>\n",
       "      <th>SleeveLength</th>\n",
       "      <th>Material</th>\n",
       "      <th>FabricType</th>\n",
       "      <th>Decoration</th>\n",
       "      <th>Pattern Type</th>\n",
       "      <th>Recommendation</th>\n",
       "      <th>Spring</th>\n",
       "      <th>Summer</th>\n",
       "      <th>Winter</th>\n",
       "      <th>Autumn</th>\n",
       "      <th>total_sales</th>\n",
       "    </tr>\n",
       "    <tr>\n",
       "      <th>Style</th>\n",
       "      <th></th>\n",
       "      <th></th>\n",
       "      <th></th>\n",
       "      <th></th>\n",
       "      <th></th>\n",
       "      <th></th>\n",
       "      <th></th>\n",
       "      <th></th>\n",
       "      <th></th>\n",
       "      <th></th>\n",
       "      <th></th>\n",
       "      <th></th>\n",
       "      <th></th>\n",
       "      <th></th>\n",
       "      <th></th>\n",
       "      <th></th>\n",
       "      <th></th>\n",
       "    </tr>\n",
       "  </thead>\n",
       "  <tbody>\n",
       "    <tr>\n",
       "      <th>Flare</th>\n",
       "      <td>2011575734</td>\n",
       "      <td>AverageAverage</td>\n",
       "      <td>0.0</td>\n",
       "      <td>FreeFree</td>\n",
       "      <td>SpringSpring</td>\n",
       "      <td>v-neckv-neck</td>\n",
       "      <td>shortshort</td>\n",
       "      <td>cottonnylon</td>\n",
       "      <td>broadclothMissing</td>\n",
       "      <td>beadingMissing</td>\n",
       "      <td>solidanimal</td>\n",
       "      <td>1</td>\n",
       "      <td>71.0</td>\n",
       "      <td>451.0</td>\n",
       "      <td>406.0</td>\n",
       "      <td>1155.0</td>\n",
       "      <td>2083.0</td>\n",
       "    </tr>\n",
       "    <tr>\n",
       "      <th>Novelty</th>\n",
       "      <td>6799573268</td>\n",
       "      <td>AverageAverageAverageMediumAverageAverage</td>\n",
       "      <td>14.1</td>\n",
       "      <td>SmallLargeFreeMediumFreeFree</td>\n",
       "      <td>WinterAutumnSummerWinterWinterSummer</td>\n",
       "      <td>turndowncolloro-necko-necko-necko-necko-neck</td>\n",
       "      <td>full sleevesshortfull sleeveshalf sleevesshort...</td>\n",
       "      <td>cottonpolystercottonpolysterpolysterMissing</td>\n",
       "      <td>MissingchiffonsattinchiffonbroadclothMissing</td>\n",
       "      <td>MissingMissinghollowouthollowoutlaceMissing</td>\n",
       "      <td>patchworkprintsolidanimalMissingprint</td>\n",
       "      <td>3</td>\n",
       "      <td>563.0</td>\n",
       "      <td>2866.0</td>\n",
       "      <td>2504.0</td>\n",
       "      <td>7233.0</td>\n",
       "      <td>13166.0</td>\n",
       "    </tr>\n",
       "    <tr>\n",
       "      <th>OL</th>\n",
       "      <td>1194626925</td>\n",
       "      <td>Medium</td>\n",
       "      <td>0.0</td>\n",
       "      <td>Medium</td>\n",
       "      <td>Winter</td>\n",
       "      <td>mandarin-collor</td>\n",
       "      <td>half sleeves</td>\n",
       "      <td>cotton</td>\n",
       "      <td>Missing</td>\n",
       "      <td>sashes</td>\n",
       "      <td>solid</td>\n",
       "      <td>0</td>\n",
       "      <td>15.0</td>\n",
       "      <td>63.0</td>\n",
       "      <td>53.0</td>\n",
       "      <td>157.0</td>\n",
       "      <td>288.0</td>\n",
       "    </tr>\n",
       "    <tr>\n",
       "      <th>fashion</th>\n",
       "      <td>836788720</td>\n",
       "      <td>Average</td>\n",
       "      <td>4.0</td>\n",
       "      <td>Free</td>\n",
       "      <td>Summer</td>\n",
       "      <td>open</td>\n",
       "      <td>full sleeves</td>\n",
       "      <td>cotton</td>\n",
       "      <td>Missing</td>\n",
       "      <td>sequined</td>\n",
       "      <td>solid</td>\n",
       "      <td>0</td>\n",
       "      <td>19.0</td>\n",
       "      <td>91.0</td>\n",
       "      <td>74.0</td>\n",
       "      <td>209.0</td>\n",
       "      <td>393.0</td>\n",
       "    </tr>\n",
       "  </tbody>\n",
       "</table>\n",
       "</div>"
      ],
      "text/plain": [
       "           Dress_ID                                      Price  Rating  \\\n",
       "Style                                                                    \n",
       "Flare    2011575734                             AverageAverage     0.0   \n",
       "Novelty  6799573268  AverageAverageAverageMediumAverageAverage    14.1   \n",
       "OL       1194626925                                     Medium     0.0   \n",
       "fashion   836788720                                    Average     4.0   \n",
       "\n",
       "                                 Size                                Season  \\\n",
       "Style                                                                         \n",
       "Flare                        FreeFree                          SpringSpring   \n",
       "Novelty  SmallLargeFreeMediumFreeFree  WinterAutumnSummerWinterWinterSummer   \n",
       "OL                             Medium                                Winter   \n",
       "fashion                          Free                                Summer   \n",
       "\n",
       "                                             NeckLine  \\\n",
       "Style                                                   \n",
       "Flare                                    v-neckv-neck   \n",
       "Novelty  turndowncolloro-necko-necko-necko-necko-neck   \n",
       "OL                                    mandarin-collor   \n",
       "fashion                                          open   \n",
       "\n",
       "                                              SleeveLength  \\\n",
       "Style                                                        \n",
       "Flare                                           shortshort   \n",
       "Novelty  full sleevesshortfull sleeveshalf sleevesshort...   \n",
       "OL                                            half sleeves   \n",
       "fashion                                       full sleeves   \n",
       "\n",
       "                                            Material  \\\n",
       "Style                                                  \n",
       "Flare                                    cottonnylon   \n",
       "Novelty  cottonpolystercottonpolysterpolysterMissing   \n",
       "OL                                            cotton   \n",
       "fashion                                       cotton   \n",
       "\n",
       "                                           FabricType  \\\n",
       "Style                                                   \n",
       "Flare                               broadclothMissing   \n",
       "Novelty  MissingchiffonsattinchiffonbroadclothMissing   \n",
       "OL                                            Missing   \n",
       "fashion                                       Missing   \n",
       "\n",
       "                                          Decoration  \\\n",
       "Style                                                  \n",
       "Flare                                 beadingMissing   \n",
       "Novelty  MissingMissinghollowouthollowoutlaceMissing   \n",
       "OL                                            sashes   \n",
       "fashion                                     sequined   \n",
       "\n",
       "                                  Pattern Type  Recommendation  Spring  \\\n",
       "Style                                                                    \n",
       "Flare                              solidanimal               1    71.0   \n",
       "Novelty  patchworkprintsolidanimalMissingprint               3   563.0   \n",
       "OL                                       solid               0    15.0   \n",
       "fashion                                  solid               0    19.0   \n",
       "\n",
       "         Summer  Winter  Autumn  total_sales  \n",
       "Style                                         \n",
       "Flare     451.0   406.0  1155.0       2083.0  \n",
       "Novelty  2866.0  2504.0  7233.0      13166.0  \n",
       "OL         63.0    53.0   157.0        288.0  \n",
       "fashion    91.0    74.0   209.0        393.0  "
      ]
     },
     "execution_count": 273,
     "metadata": {},
     "output_type": "execute_result"
    }
   ],
   "source": [
    "df[df['total_sales']<50000]"
   ]
  },
  {
   "cell_type": "code",
   "execution_count": 275,
   "metadata": {},
   "outputs": [],
   "source": [
    "inp0.replace(df[df.total_sales<50000].index,'Others',inplace=True)"
   ]
  },
  {
   "cell_type": "markdown",
   "metadata": {},
   "source": [
    "What is the percentage of “cute” and “Others” category in “Style” column in “Attribute DataSet” respectively?\n",
    "- 46%, 5%\n",
    "- 9%, 2.1%\n",
    "- 2.1%, 5%\n",
    "- 13.8%, 9%\n"
   ]
  },
  {
   "cell_type": "code",
   "execution_count": 280,
   "metadata": {},
   "outputs": [
    {
     "data": {
      "text/plain": [
       "Style\n",
       "Casual      46.072187\n",
       "Sexy        13.800425\n",
       "party       10.191083\n",
       "cute         9.129512\n",
       "vintage      5.307856\n",
       "bohemian     4.883227\n",
       "Brief        3.609342\n",
       "work         3.609342\n",
       "Others       2.123142\n",
       "sexy         1.273885\n",
       "Name: proportion, dtype: float64"
      ]
     },
     "execution_count": 280,
     "metadata": {},
     "output_type": "execute_result"
    }
   ],
   "source": [
    "inp0.Style.value_counts(normalize=True)*100"
   ]
  },
  {
   "cell_type": "code",
   "execution_count": 281,
   "metadata": {},
   "outputs": [
    {
     "data": {
      "text/plain": [
       "<Axes: ylabel='Style'>"
      ]
     },
     "execution_count": 281,
     "metadata": {},
     "output_type": "execute_result"
    },
    {
     "data": {
      "image/png": "[encoded data removed]",
      "text/plain": [
       "<Figure size 640x480 with 1 Axes>"
      ]
     },
     "metadata": {},
     "output_type": "display_data"
    }
   ],
   "source": [
    "# Calculate the percentage of each categories in the \"Style\" variable.\n",
    "inp0.Style.value_counts(normalize=True).plot.barh()"
   ]
  },
  {
   "cell_type": "markdown",
   "metadata": {},
   "source": [
    "Similarly Club Neckline, SLeeve length categories into \"Others\" which have less than 50000 sales across all the seasons."
   ]
  },
  {
   "cell_type": "code",
   "execution_count": 284,
   "metadata": {},
   "outputs": [
    {
     "data": {
      "text/html": [
       "<div>\n",
       "<style scoped>\n",
       "    .dataframe tbody tr th:only-of-type {\n",
       "        vertical-align: middle;\n",
       "    }\n",
       "\n",
       "    .dataframe tbody tr th {\n",
       "        vertical-align: top;\n",
       "    }\n",
       "\n",
       "    .dataframe thead th {\n",
       "        text-align: right;\n",
       "    }\n",
       "</style>\n",
       "<table border=\"1\" class=\"dataframe\">\n",
       "  <thead>\n",
       "    <tr style=\"text-align: right;\">\n",
       "      <th></th>\n",
       "      <th>Dress_ID</th>\n",
       "      <th>Style</th>\n",
       "      <th>Price</th>\n",
       "      <th>Rating</th>\n",
       "      <th>Size</th>\n",
       "      <th>Season</th>\n",
       "      <th>NeckLine</th>\n",
       "      <th>Material</th>\n",
       "      <th>FabricType</th>\n",
       "      <th>Decoration</th>\n",
       "      <th>Pattern Type</th>\n",
       "      <th>Recommendation</th>\n",
       "      <th>Spring</th>\n",
       "      <th>Summer</th>\n",
       "      <th>Winter</th>\n",
       "      <th>Autumn</th>\n",
       "      <th>total_sales</th>\n",
       "    </tr>\n",
       "    <tr>\n",
       "      <th>SleeveLength</th>\n",
       "      <th></th>\n",
       "      <th></th>\n",
       "      <th></th>\n",
       "      <th></th>\n",
       "      <th></th>\n",
       "      <th></th>\n",
       "      <th></th>\n",
       "      <th></th>\n",
       "      <th></th>\n",
       "      <th></th>\n",
       "      <th></th>\n",
       "      <th></th>\n",
       "      <th></th>\n",
       "      <th></th>\n",
       "      <th></th>\n",
       "      <th></th>\n",
       "      <th></th>\n",
       "    </tr>\n",
       "  </thead>\n",
       "  <tbody>\n",
       "    <tr>\n",
       "      <th>Petal</th>\n",
       "      <td>1212192089</td>\n",
       "      <td>Casual</td>\n",
       "      <td>Low</td>\n",
       "      <td>0.0</td>\n",
       "      <td>Large</td>\n",
       "      <td>Summer</td>\n",
       "      <td>o-neck</td>\n",
       "      <td>microfiber</td>\n",
       "      <td>Missing</td>\n",
       "      <td>ruffles</td>\n",
       "      <td>animal</td>\n",
       "      <td>0</td>\n",
       "      <td>750.0</td>\n",
       "      <td>6216.0</td>\n",
       "      <td>6405.0</td>\n",
       "      <td>17189.0</td>\n",
       "      <td>30560.0</td>\n",
       "    </tr>\n",
       "    <tr>\n",
       "      <th>butterfly</th>\n",
       "      <td>876339541</td>\n",
       "      <td>cute</td>\n",
       "      <td>Low</td>\n",
       "      <td>4.5</td>\n",
       "      <td>Medium</td>\n",
       "      <td>Summer</td>\n",
       "      <td>o-neck</td>\n",
       "      <td>chiffonfabric</td>\n",
       "      <td>chiffon</td>\n",
       "      <td>bow</td>\n",
       "      <td>dot</td>\n",
       "      <td>0</td>\n",
       "      <td>1396.0</td>\n",
       "      <td>7706.0</td>\n",
       "      <td>5678.0</td>\n",
       "      <td>14650.0</td>\n",
       "      <td>29430.0</td>\n",
       "    </tr>\n",
       "    <tr>\n",
       "      <th>cap sleeves</th>\n",
       "      <td>3698915562</td>\n",
       "      <td>partypartypartyCasualCasual</td>\n",
       "      <td>very-highAveragevery-highLowAverage</td>\n",
       "      <td>18.6</td>\n",
       "      <td>MediumMediumMediumFreeFree</td>\n",
       "      <td>WinterWinterSpringSummerSummer</td>\n",
       "      <td>v-necko-neckv-necko-necko-neck</td>\n",
       "      <td>MissingpolysterMissingchiffonfabriccotton</td>\n",
       "      <td>chiffonMissingMissingchiffonMissing</td>\n",
       "      <td>lacelacelaceMissingMissing</td>\n",
       "      <td>MissingMissingMissingprintsolid</td>\n",
       "      <td>3</td>\n",
       "      <td>924.0</td>\n",
       "      <td>2892.0</td>\n",
       "      <td>1974.0</td>\n",
       "      <td>7808.0</td>\n",
       "      <td>13598.0</td>\n",
       "    </tr>\n",
       "    <tr>\n",
       "      <th>full sleeves</th>\n",
       "      <td>78278210275</td>\n",
       "      <td>vintageBriefCasualpartyCasualbohemianSexyCasua...</td>\n",
       "      <td>HighAverageAverageAverageLowMediumAverageLowAv...</td>\n",
       "      <td>305.9</td>\n",
       "      <td>LargeLargeExtra LargeFreeFreeFreeLargeFreeFree...</td>\n",
       "      <td>AutumnSpringSummerSummerWinterAutumnAutumnWint...</td>\n",
       "      <td>o-necko-necko-necko-neckboat-necko-necko-neckb...</td>\n",
       "      <td>polystersilkcottonpolysterotherMissingcottonco...</td>\n",
       "      <td>MissingchiffonMissingbroadclothotherMissingMis...</td>\n",
       "      <td>MissingembroidaryMissinglacelacehollowoutbeadi...</td>\n",
       "      <td>printprintsolidsolidMissingpatchworksolidpatch...</td>\n",
       "      <td>47</td>\n",
       "      <td>25036.0</td>\n",
       "      <td>116794.0</td>\n",
       "      <td>80314.0</td>\n",
       "      <td>232575.0</td>\n",
       "      <td>454719.0</td>\n",
       "    </tr>\n",
       "    <tr>\n",
       "      <th>half sleeves</th>\n",
       "      <td>31712074181</td>\n",
       "      <td>BriefCasualCasualCasualCasualOthersSexyCasualC...</td>\n",
       "      <td>LowAverageAverageLowAverageMediumLowLowAverage...</td>\n",
       "      <td>99.0</td>\n",
       "      <td>LargeMediumLargeFreeFreeMediumMediumFreeLargeM...</td>\n",
       "      <td>AutumnSummerSpringSummerWinterWinterSpringWint...</td>\n",
       "      <td>o-necko-necko-neckv-necko-neckmandarin-colloro...</td>\n",
       "      <td>rayoncottonpolystersilkpolystercottonsilkpolys...</td>\n",
       "      <td>chiffonchiffonchiffonbroadclothchiffonMissingM...</td>\n",
       "      <td>sashesruffleshollowoutappliquehollowoutsashesM...</td>\n",
       "      <td>soliddotsolidsolidsolidsolidsolidpatchworkMiss...</td>\n",
       "      <td>10</td>\n",
       "      <td>11843.0</td>\n",
       "      <td>55133.0</td>\n",
       "      <td>35812.0</td>\n",
       "      <td>104940.0</td>\n",
       "      <td>207728.0</td>\n",
       "    </tr>\n",
       "    <tr>\n",
       "      <th>short</th>\n",
       "      <td>84873111937</td>\n",
       "      <td>OthersOthersvintageCasualcuteBriefcuteBriefCas...</td>\n",
       "      <td>AverageAverageAverageLowAverageLowLowAverageAv...</td>\n",
       "      <td>314.2</td>\n",
       "      <td>FreeFreeMediumMediumLargeExtra LargeMediumMedi...</td>\n",
       "      <td>SpringSpringSummerSummerSpringSummerSpringAutu...</td>\n",
       "      <td>v-neckv-necko-neckboat-necko-neckv-neckruffled...</td>\n",
       "      <td>cottonnyloncottoncottoncottoncottonchiffonfabr...</td>\n",
       "      <td>broadclothMissingjerseyMissingMissingMissingch...</td>\n",
       "      <td>beadingMissingMissingsashessashespocketsbowMis...</td>\n",
       "      <td>solidanimalanimalsolidsolidsoliddotprintsolidp...</td>\n",
       "      <td>27</td>\n",
       "      <td>37439.0</td>\n",
       "      <td>186363.0</td>\n",
       "      <td>124509.0</td>\n",
       "      <td>346959.0</td>\n",
       "      <td>695270.0</td>\n",
       "    </tr>\n",
       "    <tr>\n",
       "      <th>sleeve less</th>\n",
       "      <td>198658323797</td>\n",
       "      <td>SexybohemianbohemianSexyCasualSexySexySexySexy...</td>\n",
       "      <td>LowLowLowAverageLowAverageAverageAverageAverag...</td>\n",
       "      <td>807.9</td>\n",
       "      <td>MediumMediumFreeMediumMediumSmallFreeMediumMed...</td>\n",
       "      <td>SummerSummerSummerAutumnSummerSummerAutumnAutu...</td>\n",
       "      <td>o-neckv-neckv-necko-necko-neckv-neckv-necko-ne...</td>\n",
       "      <td>MissingMissingnylonmilksilkMissingcottonpolyst...</td>\n",
       "      <td>chiffonMissingchiffonMissingchiffonMissingMiss...</td>\n",
       "      <td>rufflesMissingMissingMissingMissingsequinedlac...</td>\n",
       "      <td>animalprintMissingMissingsolidsolidpatchworkpr...</td>\n",
       "      <td>102</td>\n",
       "      <td>50927.0</td>\n",
       "      <td>242286.0</td>\n",
       "      <td>171075.0</td>\n",
       "      <td>500830.0</td>\n",
       "      <td>965118.0</td>\n",
       "    </tr>\n",
       "    <tr>\n",
       "      <th>three quater</th>\n",
       "      <td>23951555468</td>\n",
       "      <td>sexyBriefpartySexysexyBriefCasualpartycuteCasu...</td>\n",
       "      <td>LowAverageHighAverageAverageAverageMediumAvera...</td>\n",
       "      <td>85.3</td>\n",
       "      <td>MediumMediumMediumLargeMediumMediumMediumFreeM...</td>\n",
       "      <td>WinterWinterSpringSpringSpringWinterSpringAutu...</td>\n",
       "      <td>o-neckpeterpan-colloro-neckv-necko-neckpeterpa...</td>\n",
       "      <td>MissingcottonMissingpolysterpolystercottonsilk...</td>\n",
       "      <td>chiffonMissingMissingMissingMissingMissingchif...</td>\n",
       "      <td>laceMissingMissinglacelaceMissingrufflesMissin...</td>\n",
       "      <td>printpatchworkprintgeometricgeometricsolidsoli...</td>\n",
       "      <td>9</td>\n",
       "      <td>13066.0</td>\n",
       "      <td>64312.0</td>\n",
       "      <td>41802.0</td>\n",
       "      <td>114215.0</td>\n",
       "      <td>233395.0</td>\n",
       "    </tr>\n",
       "    <tr>\n",
       "      <th>turn down collar</th>\n",
       "      <td>1806086648</td>\n",
       "      <td>Casualvintage</td>\n",
       "      <td>LowAverage</td>\n",
       "      <td>9.3</td>\n",
       "      <td>MediumFree</td>\n",
       "      <td>WinterSummer</td>\n",
       "      <td>v-necko-neck</td>\n",
       "      <td>cottonMissing</td>\n",
       "      <td>MissingMissing</td>\n",
       "      <td>MissingMissing</td>\n",
       "      <td>MissingMissing</td>\n",
       "      <td>1</td>\n",
       "      <td>160.0</td>\n",
       "      <td>733.0</td>\n",
       "      <td>632.0</td>\n",
       "      <td>2043.0</td>\n",
       "      <td>3568.0</td>\n",
       "    </tr>\n",
       "  </tbody>\n",
       "</table>\n",
       "</div>"
      ],
      "text/plain": [
       "                      Dress_ID  \\\n",
       "SleeveLength                     \n",
       "Petal               1212192089   \n",
       "butterfly            876339541   \n",
       "cap sleeves         3698915562   \n",
       "full sleeves       78278210275   \n",
       "half sleeves       31712074181   \n",
       "short              84873111937   \n",
       "sleeve less       198658323797   \n",
       "three quater       23951555468   \n",
       "turn down collar    1806086648   \n",
       "\n",
       "                                                              Style  \\\n",
       "SleeveLength                                                          \n",
       "Petal                                                        Casual   \n",
       "butterfly                                                      cute   \n",
       "cap sleeves                             partypartypartyCasualCasual   \n",
       "full sleeves      vintageBriefCasualpartyCasualbohemianSexyCasua...   \n",
       "half sleeves      BriefCasualCasualCasualCasualOthersSexyCasualC...   \n",
       "short             OthersOthersvintageCasualcuteBriefcuteBriefCas...   \n",
       "sleeve less       SexybohemianbohemianSexyCasualSexySexySexySexy...   \n",
       "three quater      sexyBriefpartySexysexyBriefCasualpartycuteCasu...   \n",
       "turn down collar                                      Casualvintage   \n",
       "\n",
       "                                                              Price  Rating  \\\n",
       "SleeveLength                                                                  \n",
       "Petal                                                           Low     0.0   \n",
       "butterfly                                                       Low     4.5   \n",
       "cap sleeves                     very-highAveragevery-highLowAverage    18.6   \n",
       "full sleeves      HighAverageAverageAverageLowMediumAverageLowAv...   305.9   \n",
       "half sleeves      LowAverageAverageLowAverageMediumLowLowAverage...    99.0   \n",
       "short             AverageAverageAverageLowAverageLowLowAverageAv...   314.2   \n",
       "sleeve less       LowLowLowAverageLowAverageAverageAverageAverag...   807.9   \n",
       "three quater      LowAverageHighAverageAverageAverageMediumAvera...    85.3   \n",
       "turn down collar                                         LowAverage     9.3   \n",
       "\n",
       "                                                               Size  \\\n",
       "SleeveLength                                                          \n",
       "Petal                                                         Large   \n",
       "butterfly                                                    Medium   \n",
       "cap sleeves                              MediumMediumMediumFreeFree   \n",
       "full sleeves      LargeLargeExtra LargeFreeFreeFreeLargeFreeFree...   \n",
       "half sleeves      LargeMediumLargeFreeFreeMediumMediumFreeLargeM...   \n",
       "short             FreeFreeMediumMediumLargeExtra LargeMediumMedi...   \n",
       "sleeve less       MediumMediumFreeMediumMediumSmallFreeMediumMed...   \n",
       "three quater      MediumMediumMediumLargeMediumMediumMediumFreeM...   \n",
       "turn down collar                                         MediumFree   \n",
       "\n",
       "                                                             Season  \\\n",
       "SleeveLength                                                          \n",
       "Petal                                                        Summer   \n",
       "butterfly                                                    Summer   \n",
       "cap sleeves                          WinterWinterSpringSummerSummer   \n",
       "full sleeves      AutumnSpringSummerSummerWinterAutumnAutumnWint...   \n",
       "half sleeves      AutumnSummerSpringSummerWinterWinterSpringWint...   \n",
       "short             SpringSpringSummerSummerSpringSummerSpringAutu...   \n",
       "sleeve less       SummerSummerSummerAutumnSummerSummerAutumnAutu...   \n",
       "three quater      WinterWinterSpringSpringSpringWinterSpringAutu...   \n",
       "turn down collar                                       WinterSummer   \n",
       "\n",
       "                                                           NeckLine  \\\n",
       "SleeveLength                                                          \n",
       "Petal                                                        o-neck   \n",
       "butterfly                                                    o-neck   \n",
       "cap sleeves                          v-necko-neckv-necko-necko-neck   \n",
       "full sleeves      o-necko-necko-necko-neckboat-necko-necko-neckb...   \n",
       "half sleeves      o-necko-necko-neckv-necko-neckmandarin-colloro...   \n",
       "short             v-neckv-necko-neckboat-necko-neckv-neckruffled...   \n",
       "sleeve less       o-neckv-neckv-necko-necko-neckv-neckv-necko-ne...   \n",
       "three quater      o-neckpeterpan-colloro-neckv-necko-neckpeterpa...   \n",
       "turn down collar                                       v-necko-neck   \n",
       "\n",
       "                                                           Material  \\\n",
       "SleeveLength                                                          \n",
       "Petal                                                    microfiber   \n",
       "butterfly                                             chiffonfabric   \n",
       "cap sleeves               MissingpolysterMissingchiffonfabriccotton   \n",
       "full sleeves      polystersilkcottonpolysterotherMissingcottonco...   \n",
       "half sleeves      rayoncottonpolystersilkpolystercottonsilkpolys...   \n",
       "short             cottonnyloncottoncottoncottoncottonchiffonfabr...   \n",
       "sleeve less       MissingMissingnylonmilksilkMissingcottonpolyst...   \n",
       "three quater      MissingcottonMissingpolysterpolystercottonsilk...   \n",
       "turn down collar                                      cottonMissing   \n",
       "\n",
       "                                                         FabricType  \\\n",
       "SleeveLength                                                          \n",
       "Petal                                                       Missing   \n",
       "butterfly                                                   chiffon   \n",
       "cap sleeves                     chiffonMissingMissingchiffonMissing   \n",
       "full sleeves      MissingchiffonMissingbroadclothotherMissingMis...   \n",
       "half sleeves      chiffonchiffonchiffonbroadclothchiffonMissingM...   \n",
       "short             broadclothMissingjerseyMissingMissingMissingch...   \n",
       "sleeve less       chiffonMissingchiffonMissingchiffonMissingMiss...   \n",
       "three quater      chiffonMissingMissingMissingMissingMissingchif...   \n",
       "turn down collar                                     MissingMissing   \n",
       "\n",
       "                                                         Decoration  \\\n",
       "SleeveLength                                                          \n",
       "Petal                                                       ruffles   \n",
       "butterfly                                                       bow   \n",
       "cap sleeves                              lacelacelaceMissingMissing   \n",
       "full sleeves      MissingembroidaryMissinglacelacehollowoutbeadi...   \n",
       "half sleeves      sashesruffleshollowoutappliquehollowoutsashesM...   \n",
       "short             beadingMissingMissingsashessashespocketsbowMis...   \n",
       "sleeve less       rufflesMissingMissingMissingMissingsequinedlac...   \n",
       "three quater      laceMissingMissinglacelaceMissingrufflesMissin...   \n",
       "turn down collar                                     MissingMissing   \n",
       "\n",
       "                                                       Pattern Type  \\\n",
       "SleeveLength                                                          \n",
       "Petal                                                        animal   \n",
       "butterfly                                                       dot   \n",
       "cap sleeves                         MissingMissingMissingprintsolid   \n",
       "full sleeves      printprintsolidsolidMissingpatchworksolidpatch...   \n",
       "half sleeves      soliddotsolidsolidsolidsolidsolidpatchworkMiss...   \n",
       "short             solidanimalanimalsolidsolidsoliddotprintsolidp...   \n",
       "sleeve less       animalprintMissingMissingsolidsolidpatchworkpr...   \n",
       "three quater      printpatchworkprintgeometricgeometricsolidsoli...   \n",
       "turn down collar                                     MissingMissing   \n",
       "\n",
       "                  Recommendation   Spring    Summer    Winter    Autumn  \\\n",
       "SleeveLength                                                              \n",
       "Petal                          0    750.0    6216.0    6405.0   17189.0   \n",
       "butterfly                      0   1396.0    7706.0    5678.0   14650.0   \n",
       "cap sleeves                    3    924.0    2892.0    1974.0    7808.0   \n",
       "full sleeves                  47  25036.0  116794.0   80314.0  232575.0   \n",
       "half sleeves                  10  11843.0   55133.0   35812.0  104940.0   \n",
       "short                         27  37439.0  186363.0  124509.0  346959.0   \n",
       "sleeve less                  102  50927.0  242286.0  171075.0  500830.0   \n",
       "three quater                   9  13066.0   64312.0   41802.0  114215.0   \n",
       "turn down collar               1    160.0     733.0     632.0    2043.0   \n",
       "\n",
       "                  total_sales  \n",
       "SleeveLength                   \n",
       "Petal                 30560.0  \n",
       "butterfly             29430.0  \n",
       "cap sleeves           13598.0  \n",
       "full sleeves         454719.0  \n",
       "half sleeves         207728.0  \n",
       "short                695270.0  \n",
       "sleeve less          965118.0  \n",
       "three quater         233395.0  \n",
       "turn down collar       3568.0  "
      ]
     },
     "execution_count": 284,
     "metadata": {},
     "output_type": "execute_result"
    }
   ],
   "source": [
    "df1=inp0.groupby(by='SleeveLength').sum()\n",
    "df1"
   ]
  },
  {
   "cell_type": "code",
   "execution_count": 286,
   "metadata": {},
   "outputs": [],
   "source": [
    "# Group \"Sleevelength\" categories into \"Others\" which have less than 50000 sales across all the seasons.\n",
    "df1[df1['total_sales']<50000]\n",
    "inp0.replace(df1[df1['total_sales']<50000].index,'Others',inplace=True)"
   ]
  },
  {
   "cell_type": "code",
   "execution_count": 287,
   "metadata": {},
   "outputs": [],
   "source": [
    "# Group \"NeckLine\" categories into \"Others\" which have less than 50000 sales across all the seasons.\n",
    "df2=inp0.groupby(by='NeckLine').sum()\n",
    "df2[df2['total_sales']<50000]\n",
    "inp0.replace(df2[df2['total_sales']<50000].index,'Others',inplace=True)"
   ]
  },
  {
   "cell_type": "markdown",
   "metadata": {},
   "source": [
    "Club material, fabrictype, patterntype and decoration categories into \"Others\" which have less than 25000 sales across all the seasons"
   ]
  },
  {
   "cell_type": "code",
   "execution_count": 288,
   "metadata": {},
   "outputs": [
    {
     "data": {
      "text/html": [
       "<div>\n",
       "<style scoped>\n",
       "    .dataframe tbody tr th:only-of-type {\n",
       "        vertical-align: middle;\n",
       "    }\n",
       "\n",
       "    .dataframe tbody tr th {\n",
       "        vertical-align: top;\n",
       "    }\n",
       "\n",
       "    .dataframe thead th {\n",
       "        text-align: right;\n",
       "    }\n",
       "</style>\n",
       "<table border=\"1\" class=\"dataframe\">\n",
       "  <thead>\n",
       "    <tr style=\"text-align: right;\">\n",
       "      <th></th>\n",
       "      <th>Dress_ID</th>\n",
       "      <th>Style</th>\n",
       "      <th>Price</th>\n",
       "      <th>Rating</th>\n",
       "      <th>Size</th>\n",
       "      <th>Season</th>\n",
       "      <th>NeckLine</th>\n",
       "      <th>SleeveLength</th>\n",
       "      <th>Material</th>\n",
       "      <th>FabricType</th>\n",
       "      <th>Decoration</th>\n",
       "      <th>Pattern Type</th>\n",
       "      <th>Recommendation</th>\n",
       "      <th>Spring</th>\n",
       "      <th>Summer</th>\n",
       "      <th>Winter</th>\n",
       "      <th>Autumn</th>\n",
       "      <th>total_sales</th>\n",
       "    </tr>\n",
       "  </thead>\n",
       "  <tbody>\n",
       "    <tr>\n",
       "      <th>0</th>\n",
       "      <td>1006032852</td>\n",
       "      <td>Sexy</td>\n",
       "      <td>Low</td>\n",
       "      <td>4.6</td>\n",
       "      <td>Medium</td>\n",
       "      <td>Summer</td>\n",
       "      <td>o-neck</td>\n",
       "      <td>sleeve less</td>\n",
       "      <td>Missing</td>\n",
       "      <td>chiffon</td>\n",
       "      <td>ruffles</td>\n",
       "      <td>animal</td>\n",
       "      <td>1</td>\n",
       "      <td>2660.0</td>\n",
       "      <td>13899.0</td>\n",
       "      <td>9658.0</td>\n",
       "      <td>26784.0</td>\n",
       "      <td>53001.0</td>\n",
       "    </tr>\n",
       "    <tr>\n",
       "      <th>1</th>\n",
       "      <td>1212192089</td>\n",
       "      <td>Casual</td>\n",
       "      <td>Low</td>\n",
       "      <td>0.0</td>\n",
       "      <td>Large</td>\n",
       "      <td>Summer</td>\n",
       "      <td>o-neck</td>\n",
       "      <td>Others</td>\n",
       "      <td>microfiber</td>\n",
       "      <td>Missing</td>\n",
       "      <td>ruffles</td>\n",
       "      <td>animal</td>\n",
       "      <td>0</td>\n",
       "      <td>750.0</td>\n",
       "      <td>6216.0</td>\n",
       "      <td>6405.0</td>\n",
       "      <td>17189.0</td>\n",
       "      <td>30560.0</td>\n",
       "    </tr>\n",
       "    <tr>\n",
       "      <th>2</th>\n",
       "      <td>1190380701</td>\n",
       "      <td>vintage</td>\n",
       "      <td>High</td>\n",
       "      <td>0.0</td>\n",
       "      <td>Large</td>\n",
       "      <td>Autumn</td>\n",
       "      <td>o-neck</td>\n",
       "      <td>full sleeves</td>\n",
       "      <td>polyster</td>\n",
       "      <td>Missing</td>\n",
       "      <td>Missing</td>\n",
       "      <td>print</td>\n",
       "      <td>0</td>\n",
       "      <td>7.0</td>\n",
       "      <td>40.0</td>\n",
       "      <td>28.0</td>\n",
       "      <td>82.0</td>\n",
       "      <td>157.0</td>\n",
       "    </tr>\n",
       "    <tr>\n",
       "      <th>3</th>\n",
       "      <td>966005983</td>\n",
       "      <td>Brief</td>\n",
       "      <td>Average</td>\n",
       "      <td>4.6</td>\n",
       "      <td>Large</td>\n",
       "      <td>Spring</td>\n",
       "      <td>o-neck</td>\n",
       "      <td>full sleeves</td>\n",
       "      <td>silk</td>\n",
       "      <td>chiffon</td>\n",
       "      <td>embroidary</td>\n",
       "      <td>print</td>\n",
       "      <td>1</td>\n",
       "      <td>1455.0</td>\n",
       "      <td>7213.0</td>\n",
       "      <td>5012.0</td>\n",
       "      <td>14374.0</td>\n",
       "      <td>28054.0</td>\n",
       "    </tr>\n",
       "    <tr>\n",
       "      <th>4</th>\n",
       "      <td>876339541</td>\n",
       "      <td>cute</td>\n",
       "      <td>Low</td>\n",
       "      <td>4.5</td>\n",
       "      <td>Medium</td>\n",
       "      <td>Summer</td>\n",
       "      <td>o-neck</td>\n",
       "      <td>Others</td>\n",
       "      <td>chiffonfabric</td>\n",
       "      <td>chiffon</td>\n",
       "      <td>bow</td>\n",
       "      <td>dot</td>\n",
       "      <td>0</td>\n",
       "      <td>1396.0</td>\n",
       "      <td>7706.0</td>\n",
       "      <td>5678.0</td>\n",
       "      <td>14650.0</td>\n",
       "      <td>29430.0</td>\n",
       "    </tr>\n",
       "  </tbody>\n",
       "</table>\n",
       "</div>"
      ],
      "text/plain": [
       "     Dress_ID    Style    Price  Rating    Size  Season NeckLine  \\\n",
       "0  1006032852     Sexy      Low     4.6  Medium  Summer   o-neck   \n",
       "1  1212192089   Casual      Low     0.0   Large  Summer   o-neck   \n",
       "2  1190380701  vintage     High     0.0   Large  Autumn   o-neck   \n",
       "3   966005983    Brief  Average     4.6   Large  Spring   o-neck   \n",
       "4   876339541     cute      Low     4.5  Medium  Summer   o-neck   \n",
       "\n",
       "   SleeveLength       Material FabricType  Decoration Pattern Type  \\\n",
       "0   sleeve less        Missing    chiffon     ruffles       animal   \n",
       "1        Others     microfiber    Missing     ruffles       animal   \n",
       "2  full sleeves       polyster    Missing     Missing        print   \n",
       "3  full sleeves           silk    chiffon  embroidary        print   \n",
       "4        Others  chiffonfabric    chiffon         bow          dot   \n",
       "\n",
       "   Recommendation  Spring   Summer  Winter   Autumn  total_sales  \n",
       "0               1  2660.0  13899.0  9658.0  26784.0      53001.0  \n",
       "1               0   750.0   6216.0  6405.0  17189.0      30560.0  \n",
       "2               0     7.0     40.0    28.0     82.0        157.0  \n",
       "3               1  1455.0   7213.0  5012.0  14374.0      28054.0  \n",
       "4               0  1396.0   7706.0  5678.0  14650.0      29430.0  "
      ]
     },
     "execution_count": 288,
     "metadata": {},
     "output_type": "execute_result"
    }
   ],
   "source": [
    "inp0.head()"
   ]
  },
  {
   "cell_type": "code",
   "execution_count": 290,
   "metadata": {},
   "outputs": [],
   "source": [
    "# Group \"material\" categories into \"Others\" which have less than 25000 sales across all the seasons.\n",
    "df3=inp0.groupby(by='Material').sum()\n",
    "df3[df3['total_sales']<25000]\n",
    "inp0.replace(df3[df3['total_sales']<25000].index,'Others',inplace=True)"
   ]
  },
  {
   "cell_type": "code",
   "execution_count": 289,
   "metadata": {},
   "outputs": [],
   "source": [
    "# Group \"fabric type\" categories into \"Others\" which have less than 25000 sales across all the seasons.\n",
    "df4=inp0.groupby(by='FabricType').sum()\n",
    "df4[df4['total_sales']<50000]\n",
    "inp0.replace(df4[df4['total_sales']<25000].index,'Others',inplace=True)"
   ]
  },
  {
   "cell_type": "code",
   "execution_count": 292,
   "metadata": {},
   "outputs": [],
   "source": [
    "# Group \"patern type\" categories into \"Others\" which have less than 25000 sales across all the seasons.\n",
    "df5=inp0.groupby(by='Pattern Type').sum()\n",
    "df5[df5['total_sales']<25000]\n",
    "inp0.replace(df5[df5['total_sales']<25000].index,'Others',inplace=True)"
   ]
  },
  {
   "cell_type": "code",
   "execution_count": 293,
   "metadata": {},
   "outputs": [],
   "source": [
    "# Group \"decoration\" categories into \"Others\" which have less than 25000 sales across all the seasons.\n",
    "df6=inp0.groupby(by='Decoration').sum()\n",
    "df6[df6['total_sales']<50000]\n",
    "inp0.replace(df6[df6['total_sales']<25000].index,'Others',inplace=True)"
   ]
  },
  {
   "cell_type": "markdown",
   "metadata": {},
   "source": [
    "### Caregorical Ordered Univariate Analysis"
   ]
  },
  {
   "cell_type": "markdown",
   "metadata": {},
   "source": [
    "Which of the following is an unordered variable in “Attribute DataSet”.\n",
    "- Style\n",
    "- Price\n",
    "- Season\n",
    "- Size\n"
   ]
  },
  {
   "cell_type": "markdown",
   "metadata": {},
   "source": [
    "### Numerical variable Univariate analysis:"
   ]
  },
  {
   "cell_type": "markdown",
   "metadata": {},
   "source": [
    "What is the approximate difference between the maximum value and 75th percentile in “Autumn” column.\n",
    "- Approx 54000\n",
    "- Approx 55000\n",
    "- Approx 52000\n",
    "- Approx 50000\n",
    "\n"
   ]
  },
  {
   "cell_type": "code",
   "execution_count": 294,
   "metadata": {},
   "outputs": [
    {
     "data": {
      "text/plain": [
       "count      471.000000\n",
       "mean      2847.577495\n",
       "std       5032.156413\n",
       "min          1.000000\n",
       "25%        408.500000\n",
       "50%       1325.000000\n",
       "75%       3114.000000\n",
       "max      55541.000000\n",
       "Name: Autumn, dtype: float64"
      ]
     },
     "execution_count": 294,
     "metadata": {},
     "output_type": "execute_result"
    }
   ],
   "source": [
    "# Describe the numerical variale: \"Autumn\".\n",
    "inp0['Autumn'].describe()"
   ]
  },
  {
   "cell_type": "code",
   "execution_count": 295,
   "metadata": {},
   "outputs": [
    {
     "data": {
      "image/png": "[encoded data removed]",
      "text/plain": [
       "<Figure size 640x480 with 1 Axes>"
      ]
     },
     "metadata": {},
     "output_type": "display_data"
    }
   ],
   "source": [
    "# plot the boxplot of \"Autumn\" column.\n",
    "sns.boxplot(inp0['Autumn'])\n",
    "plt.show()"
   ]
  },
  {
   "cell_type": "markdown",
   "metadata": {},
   "source": [
    "Which of the following season has the highest difference between the maximum value and 99th quantile of sales?\n",
    "- Winter\n",
    "- Summer\n",
    "- Spring\n",
    "- Autumn\n"
   ]
  },
  {
   "cell_type": "code",
   "execution_count": 325,
   "metadata": {},
   "outputs": [
    {
     "name": "stdout",
     "output_type": "stream",
     "text": [
      "20388.0\n",
      "8985.30000000001\n",
      "11402.69999999999\n"
     ]
    }
   ],
   "source": [
    "# Find the maximum and 99th percentile of Winter season.\n",
    "maximum=inp0.Winter.max()\n",
    "perc=inp0.Winter.quantile(0.99)\n",
    "print(maximum)\n",
    "print(perc)\n",
    "print(maximum-perc)"
   ]
  },
  {
   "cell_type": "code",
   "execution_count": 326,
   "metadata": {},
   "outputs": [
    {
     "name": "stdout",
     "output_type": "stream",
     "text": [
      "35577.0\n",
      "13974.000000000004\n",
      "21602.999999999996\n"
     ]
    }
   ],
   "source": [
    "# Find the maximum and 99th percentile of Summer season.\n",
    "maximum=inp0.Summer.max()\n",
    "perc=inp0.Summer.quantile(0.99)\n",
    "print(maximum)\n",
    "print(perc)\n",
    "print(maximum-perc)"
   ]
  },
  {
   "cell_type": "code",
   "execution_count": 327,
   "metadata": {},
   "outputs": [
    {
     "name": "stdout",
     "output_type": "stream",
     "text": [
      "7374.0\n",
      "2657.2\n",
      "4716.8\n"
     ]
    }
   ],
   "source": [
    "# Find the maximum and 99th percentile of Spring season.\n",
    "maximum=inp0.Spring.max()\n",
    "perc=inp0.Spring.quantile(0.99)\n",
    "print(maximum)\n",
    "print(perc)\n",
    "print(maximum-perc)"
   ]
  },
  {
   "cell_type": "code",
   "execution_count": 328,
   "metadata": {},
   "outputs": [
    {
     "name": "stdout",
     "output_type": "stream",
     "text": [
      "55541.0\n",
      "24105.500000000025\n",
      "31435.499999999975\n"
     ]
    }
   ],
   "source": [
    "# Find the maximum and 99th percentile of Autumn season.\n",
    "maximum=inp0.Autumn.max()\n",
    "perc=inp0.Autumn.quantile(0.99)\n",
    "print(maximum)\n",
    "print(perc)\n",
    "print(maximum-perc)"
   ]
  },
  {
   "cell_type": "markdown",
   "metadata": {},
   "source": [
    "## Bivariate Analysis "
   ]
  },
  {
   "cell_type": "markdown",
   "metadata": {},
   "source": [
    "### Numerical- Categorical analysis"
   ]
  },
  {
   "cell_type": "markdown",
   "metadata": {},
   "source": [
    "Which of the following “Price” category has the lowest average value of rating?\n",
    "- very-high\n",
    "- Medium\n",
    "- Low\n",
    "- High\n"
   ]
  },
  {
   "cell_type": "code",
   "execution_count": 297,
   "metadata": {},
   "outputs": [
    {
     "data": {
      "text/html": [
       "<div>\n",
       "<style scoped>\n",
       "    .dataframe tbody tr th:only-of-type {\n",
       "        vertical-align: middle;\n",
       "    }\n",
       "\n",
       "    .dataframe tbody tr th {\n",
       "        vertical-align: top;\n",
       "    }\n",
       "\n",
       "    .dataframe thead th {\n",
       "        text-align: right;\n",
       "    }\n",
       "</style>\n",
       "<table border=\"1\" class=\"dataframe\">\n",
       "  <thead>\n",
       "    <tr style=\"text-align: right;\">\n",
       "      <th></th>\n",
       "      <th>Dress_ID</th>\n",
       "      <th>Style</th>\n",
       "      <th>Price</th>\n",
       "      <th>Rating</th>\n",
       "      <th>Size</th>\n",
       "      <th>Season</th>\n",
       "      <th>NeckLine</th>\n",
       "      <th>SleeveLength</th>\n",
       "      <th>Material</th>\n",
       "      <th>FabricType</th>\n",
       "      <th>Decoration</th>\n",
       "      <th>Pattern Type</th>\n",
       "      <th>Recommendation</th>\n",
       "      <th>Spring</th>\n",
       "      <th>Summer</th>\n",
       "      <th>Winter</th>\n",
       "      <th>Autumn</th>\n",
       "      <th>total_sales</th>\n",
       "    </tr>\n",
       "  </thead>\n",
       "  <tbody>\n",
       "    <tr>\n",
       "      <th>0</th>\n",
       "      <td>1006032852</td>\n",
       "      <td>Sexy</td>\n",
       "      <td>Low</td>\n",
       "      <td>4.6</td>\n",
       "      <td>Medium</td>\n",
       "      <td>Summer</td>\n",
       "      <td>o-neck</td>\n",
       "      <td>sleeve less</td>\n",
       "      <td>Missing</td>\n",
       "      <td>chiffon</td>\n",
       "      <td>ruffles</td>\n",
       "      <td>animal</td>\n",
       "      <td>1</td>\n",
       "      <td>2660.0</td>\n",
       "      <td>13899.0</td>\n",
       "      <td>9658.0</td>\n",
       "      <td>26784.0</td>\n",
       "      <td>53001.0</td>\n",
       "    </tr>\n",
       "    <tr>\n",
       "      <th>1</th>\n",
       "      <td>1212192089</td>\n",
       "      <td>Casual</td>\n",
       "      <td>Low</td>\n",
       "      <td>0.0</td>\n",
       "      <td>Large</td>\n",
       "      <td>Summer</td>\n",
       "      <td>o-neck</td>\n",
       "      <td>Others</td>\n",
       "      <td>microfiber</td>\n",
       "      <td>Missing</td>\n",
       "      <td>ruffles</td>\n",
       "      <td>animal</td>\n",
       "      <td>0</td>\n",
       "      <td>750.0</td>\n",
       "      <td>6216.0</td>\n",
       "      <td>6405.0</td>\n",
       "      <td>17189.0</td>\n",
       "      <td>30560.0</td>\n",
       "    </tr>\n",
       "    <tr>\n",
       "      <th>2</th>\n",
       "      <td>1190380701</td>\n",
       "      <td>vintage</td>\n",
       "      <td>High</td>\n",
       "      <td>0.0</td>\n",
       "      <td>Large</td>\n",
       "      <td>Autumn</td>\n",
       "      <td>o-neck</td>\n",
       "      <td>full sleeves</td>\n",
       "      <td>polyster</td>\n",
       "      <td>Missing</td>\n",
       "      <td>Missing</td>\n",
       "      <td>print</td>\n",
       "      <td>0</td>\n",
       "      <td>7.0</td>\n",
       "      <td>40.0</td>\n",
       "      <td>28.0</td>\n",
       "      <td>82.0</td>\n",
       "      <td>157.0</td>\n",
       "    </tr>\n",
       "    <tr>\n",
       "      <th>3</th>\n",
       "      <td>966005983</td>\n",
       "      <td>Brief</td>\n",
       "      <td>Average</td>\n",
       "      <td>4.6</td>\n",
       "      <td>Large</td>\n",
       "      <td>Spring</td>\n",
       "      <td>o-neck</td>\n",
       "      <td>full sleeves</td>\n",
       "      <td>silk</td>\n",
       "      <td>chiffon</td>\n",
       "      <td>embroidary</td>\n",
       "      <td>print</td>\n",
       "      <td>1</td>\n",
       "      <td>1455.0</td>\n",
       "      <td>7213.0</td>\n",
       "      <td>5012.0</td>\n",
       "      <td>14374.0</td>\n",
       "      <td>28054.0</td>\n",
       "    </tr>\n",
       "    <tr>\n",
       "      <th>4</th>\n",
       "      <td>876339541</td>\n",
       "      <td>cute</td>\n",
       "      <td>Low</td>\n",
       "      <td>4.5</td>\n",
       "      <td>Medium</td>\n",
       "      <td>Summer</td>\n",
       "      <td>o-neck</td>\n",
       "      <td>Others</td>\n",
       "      <td>chiffonfabric</td>\n",
       "      <td>chiffon</td>\n",
       "      <td>bow</td>\n",
       "      <td>dot</td>\n",
       "      <td>0</td>\n",
       "      <td>1396.0</td>\n",
       "      <td>7706.0</td>\n",
       "      <td>5678.0</td>\n",
       "      <td>14650.0</td>\n",
       "      <td>29430.0</td>\n",
       "    </tr>\n",
       "  </tbody>\n",
       "</table>\n",
       "</div>"
      ],
      "text/plain": [
       "     Dress_ID    Style    Price  Rating    Size  Season NeckLine  \\\n",
       "0  1006032852     Sexy      Low     4.6  Medium  Summer   o-neck   \n",
       "1  1212192089   Casual      Low     0.0   Large  Summer   o-neck   \n",
       "2  1190380701  vintage     High     0.0   Large  Autumn   o-neck   \n",
       "3   966005983    Brief  Average     4.6   Large  Spring   o-neck   \n",
       "4   876339541     cute      Low     4.5  Medium  Summer   o-neck   \n",
       "\n",
       "   SleeveLength       Material FabricType  Decoration Pattern Type  \\\n",
       "0   sleeve less        Missing    chiffon     ruffles       animal   \n",
       "1        Others     microfiber    Missing     ruffles       animal   \n",
       "2  full sleeves       polyster    Missing     Missing        print   \n",
       "3  full sleeves           silk    chiffon  embroidary        print   \n",
       "4        Others  chiffonfabric    chiffon         bow          dot   \n",
       "\n",
       "   Recommendation  Spring   Summer  Winter   Autumn  total_sales  \n",
       "0               1  2660.0  13899.0  9658.0  26784.0      53001.0  \n",
       "1               0   750.0   6216.0  6405.0  17189.0      30560.0  \n",
       "2               0     7.0     40.0    28.0     82.0        157.0  \n",
       "3               1  1455.0   7213.0  5012.0  14374.0      28054.0  \n",
       "4               0  1396.0   7706.0  5678.0  14650.0      29430.0  "
      ]
     },
     "execution_count": 297,
     "metadata": {},
     "output_type": "execute_result"
    }
   ],
   "source": [
    "inp0.head()"
   ]
  },
  {
   "cell_type": "code",
   "execution_count": 317,
   "metadata": {},
   "outputs": [
    {
     "data": {
      "text/plain": [
       "<Axes: xlabel='Price'>"
      ]
     },
     "execution_count": 317,
     "metadata": {},
     "output_type": "execute_result"
    },
    {
     "data": {
      "image/png": "[encoded data removed]",
      "text/plain": [
       "<Figure size 640x480 with 1 Axes>"
      ]
     },
     "metadata": {},
     "output_type": "display_data"
    }
   ],
   "source": [
    "# Find the Mean of Ratings for each Price category.\n",
    "inp0.groupby(by='Price')['Rating'].mean().plot.bar()"
   ]
  },
  {
   "cell_type": "markdown",
   "metadata": {},
   "source": [
    "What is the median of the rating of “vintage” category in Style column?\n",
    "- 4.6\n",
    "- 4.7\n",
    "- 4.55\n",
    "- 0.00\n"
   ]
  },
  {
   "cell_type": "code",
   "execution_count": 300,
   "metadata": {},
   "outputs": [
    {
     "data": {
      "text/plain": [
       "Style\n",
       "Brief       4.60\n",
       "Casual      4.60\n",
       "Others      0.00\n",
       "Sexy        4.60\n",
       "bohemian    4.60\n",
       "cute        4.60\n",
       "party       4.70\n",
       "sexy        4.55\n",
       "vintage     4.60\n",
       "work        4.70\n",
       "Name: Rating, dtype: float64"
      ]
     },
     "execution_count": 300,
     "metadata": {},
     "output_type": "execute_result"
    }
   ],
   "source": [
    "# Find the median of Ratings for each Style category.\n",
    "inp0.groupby(by='Style')['Rating'].median()"
   ]
  },
  {
   "cell_type": "markdown",
   "metadata": {},
   "source": [
    "Which of the following season has the highest average value of sale for “Recommendation” value equals to 1.\n",
    "- Summer\n",
    "- Spring\n",
    "- Autumn\n",
    "- Winter\n"
   ]
  },
  {
   "cell_type": "code",
   "execution_count": 301,
   "metadata": {},
   "outputs": [],
   "source": [
    "dtf=inp0[inp0.Recommendation==1]"
   ]
  },
  {
   "cell_type": "code",
   "execution_count": 302,
   "metadata": {},
   "outputs": [
    {
     "data": {
      "text/plain": [
       "1469.8994974874372"
      ]
     },
     "execution_count": 302,
     "metadata": {},
     "output_type": "execute_result"
    }
   ],
   "source": [
    "# Summer sale vs Recommendation.\n",
    "dtf['Summer'].mean()\n"
   ]
  },
  {
   "cell_type": "code",
   "execution_count": 303,
   "metadata": {},
   "outputs": [
    {
     "data": {
      "text/plain": [
       "303.65829145728645"
      ]
     },
     "execution_count": 303,
     "metadata": {},
     "output_type": "execute_result"
    }
   ],
   "source": [
    "# Spring sale vs Recommendation.\n",
    "dtf['Spring'].mean()"
   ]
  },
  {
   "cell_type": "code",
   "execution_count": 304,
   "metadata": {},
   "outputs": [
    {
     "data": {
      "text/plain": [
       "2865.8743718592964"
      ]
     },
     "execution_count": 304,
     "metadata": {},
     "output_type": "execute_result"
    }
   ],
   "source": [
    "# Autumn sale vs Recommendation.\n",
    "dtf['Autumn'].mean()"
   ]
  },
  {
   "cell_type": "code",
   "execution_count": 305,
   "metadata": {},
   "outputs": [
    {
     "data": {
      "text/plain": [
       "1002.8090452261307"
      ]
     },
     "execution_count": 305,
     "metadata": {},
     "output_type": "execute_result"
    }
   ],
   "source": [
    "# Winter sale vs Recommendation.\n",
    "dtf['Winter'].mean()"
   ]
  },
  {
   "cell_type": "markdown",
   "metadata": {},
   "source": [
    "### Categorical categorical bivariate analysis\n"
   ]
  },
  {
   "cell_type": "markdown",
   "metadata": {},
   "source": [
    "Which of the following size categories has the highest positive recommendations?\n",
    "- Medium and extra large\n",
    "- Extra large and small\n",
    "- Free and small\n",
    "- Free and medium\n"
   ]
  },
  {
   "cell_type": "code",
   "execution_count": 320,
   "metadata": {},
   "outputs": [
    {
     "data": {
      "text/plain": [
       "<Axes: ylabel='Size'>"
      ]
     },
     "execution_count": 320,
     "metadata": {},
     "output_type": "execute_result"
    },
    {
     "data": {
      "image/png": "[encoded data removed]",
      "text/plain": [
       "<Figure size 640x480 with 1 Axes>"
      ]
     },
     "metadata": {},
     "output_type": "display_data"
    }
   ],
   "source": [
    "# Size vs Recommendation.\n",
    "inp0.groupby('Size')['Recommendation'].sum().plot.barh()"
   ]
  },
  {
   "cell_type": "markdown",
   "metadata": {},
   "source": [
    "### Multivariate analysis "
   ]
  },
  {
   "cell_type": "markdown",
   "metadata": {},
   "source": [
    "Which of the following pair of “Style” and “Price” category has the highest average of positive recommendations?\n",
    "- Price: medium and style: vintage\n",
    "- Price: medium and style: cute\n",
    "- Price: very high and style: party\n",
    "- Price: low and style: sexy\n"
   ]
  },
  {
   "cell_type": "code",
   "execution_count": 314,
   "metadata": {},
   "outputs": [],
   "source": [
    "# plot the heat map of Style, price and Recommendation.\n",
    "res=pd.pivot_table(data=inp0,index='Style',columns='Price',values='Recommendation',aggfunc='mean')"
   ]
  },
  {
   "cell_type": "code",
   "execution_count": 315,
   "metadata": {},
   "outputs": [
    {
     "data": {
      "text/plain": [
       "<Axes: xlabel='Price', ylabel='Style'>"
      ]
     },
     "execution_count": 315,
     "metadata": {},
     "output_type": "execute_result"
    },
    {
     "data": {
      "image/png": "[encoded data removed]",
      "text/plain": [
       "<Figure size 640x480 with 2 Axes>"
      ]
     },
     "metadata": {},
     "output_type": "display_data"
    }
   ],
   "source": [
    "sns.heatmap(res,annot=True,cmap='RdYlGn')"
   ]
  },
  {
   "cell_type": "markdown",
   "metadata": {},
   "source": [
    "Which of the following material type has no recommendation in summer and winter seasons?\n",
    "- Mix and Milksilk\n",
    "- Nylon and Rayon\n",
    "- Microfiber and Silk\n",
    "- Milksilk and Microfiber\n"
   ]
  },
  {
   "cell_type": "code",
   "execution_count": 316,
   "metadata": {},
   "outputs": [
    {
     "data": {
      "text/plain": [
       "<Axes: xlabel='Season', ylabel='Material'>"
      ]
     },
     "execution_count": 316,
     "metadata": {},
     "output_type": "execute_result"
    },
    {
     "data": {
      "image/png": "[encoded data removed]",
      "text/plain": [
       "<Figure size 640x480 with 2 Axes>"
      ]
     },
     "metadata": {},
     "output_type": "display_data"
    }
   ],
   "source": [
    "# plot the heat map of Season, material and Recommendation.\n",
    "res1=pd.pivot_table(data=inp0,index='Material',columns='Season',values='Recommendation',aggfunc='mean')\n",
    "sns.heatmap(res1,annot=True,cmap='RdYlGn')"
   ]
  }
 ],
 "metadata": {
  "kernelspec": {
   "display_name": "Python 3",
   "language": "python",
   "name": "python3"
  },
  "language_info": {
   "codemirror_mode": {
    "name": "ipython",
    "version": 3
   },
   "file_extension": ".py",
   "mimetype": "text/x-python",
   "name": "python",
   "nbconvert_exporter": "python",
   "pygments_lexer": "ipython3",
   "version": "3.11.3"
  }
 },
 "nbformat": 4,
 "nbformat_minor": 2
}
